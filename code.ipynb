{
  "cells": [
    {
      "cell_type": "markdown",
      "id": "7Q3TMij9-BYZ",
      "metadata": {
        "id": "7Q3TMij9-BYZ"
      },
      "source": [
        "Importing required libraries"
      ]
    },
    {
      "cell_type": "code",
      "execution_count": null,
      "id": "e84375f0",
      "metadata": {
        "id": "e84375f0"
      },
      "outputs": [],
      "source": [
        "import pandas as pd\n",
        "import numpy as np\n",
        "import seaborn as sns\n",
        "import matplotlib.pyplot as plt"
      ]
    },
    {
      "cell_type": "markdown",
      "id": "ihlSTNeN-H6n",
      "metadata": {
        "id": "ihlSTNeN-H6n"
      },
      "source": [
        "Reading the Dataset and converting it to a Pandas Dataframe"
      ]
    },
    {
      "cell_type": "code",
      "execution_count": null,
      "id": "e27191ab",
      "metadata": {
        "colab": {
          "base_uri": "https://localhost:8080/",
          "height": 490
        },
        "id": "e27191ab",
        "outputId": "2342aca4-9b47-4030-f3ef-7f3ecfe84599"
      },
      "outputs": [
        {
          "data": {
            "text/html": [
              "\n",
              "  <div id=\"df-b9513049-f49b-430e-b46a-372383c1a15b\">\n",
              "    <div class=\"colab-df-container\">\n",
              "      <div>\n",
              "<style scoped>\n",
              "    .dataframe tbody tr th:only-of-type {\n",
              "        vertical-align: middle;\n",
              "    }\n",
              "\n",
              "    .dataframe tbody tr th {\n",
              "        vertical-align: top;\n",
              "    }\n",
              "\n",
              "    .dataframe thead th {\n",
              "        text-align: right;\n",
              "    }\n",
              "</style>\n",
              "<table border=\"1\" class=\"dataframe\">\n",
              "  <thead>\n",
              "    <tr style=\"text-align: right;\">\n",
              "      <th></th>\n",
              "      <th>Date</th>\n",
              "      <th>Date Type</th>\n",
              "      <th>Age</th>\n",
              "      <th>Sex</th>\n",
              "      <th>Race</th>\n",
              "      <th>Ethnicity</th>\n",
              "      <th>Residence City</th>\n",
              "      <th>Residence County</th>\n",
              "      <th>Residence State</th>\n",
              "      <th>Injury City</th>\n",
              "      <th>...</th>\n",
              "      <th>Xylazine</th>\n",
              "      <th>Gabapentin</th>\n",
              "      <th>Opiate NOS</th>\n",
              "      <th>Heroin/Morph/Codeine</th>\n",
              "      <th>Other Opioid</th>\n",
              "      <th>Any Opioid</th>\n",
              "      <th>Other</th>\n",
              "      <th>ResidenceCityGeo</th>\n",
              "      <th>InjuryCityGeo</th>\n",
              "      <th>DeathCityGeo</th>\n",
              "    </tr>\n",
              "  </thead>\n",
              "  <tbody>\n",
              "    <tr>\n",
              "      <th>0</th>\n",
              "      <td>05/29/2012</td>\n",
              "      <td>Date of death</td>\n",
              "      <td>37.0</td>\n",
              "      <td>Male</td>\n",
              "      <td>Black</td>\n",
              "      <td>NaN</td>\n",
              "      <td>STAMFORD</td>\n",
              "      <td>FAIRFIELD</td>\n",
              "      <td>NaN</td>\n",
              "      <td>STAMFORD</td>\n",
              "      <td>...</td>\n",
              "      <td>NaN</td>\n",
              "      <td>NaN</td>\n",
              "      <td>NaN</td>\n",
              "      <td>NaN</td>\n",
              "      <td>NaN</td>\n",
              "      <td>NaN</td>\n",
              "      <td>NaN</td>\n",
              "      <td>STAMFORD, CT\\n(41.051924, -73.539475)</td>\n",
              "      <td>STAMFORD, CT\\n(41.051924, -73.539475)</td>\n",
              "      <td>CT\\n(41.575155, -72.738288)</td>\n",
              "    </tr>\n",
              "    <tr>\n",
              "      <th>1</th>\n",
              "      <td>06/27/2012</td>\n",
              "      <td>Date of death</td>\n",
              "      <td>37.0</td>\n",
              "      <td>Male</td>\n",
              "      <td>White</td>\n",
              "      <td>NaN</td>\n",
              "      <td>NORWICH</td>\n",
              "      <td>NEW LONDON</td>\n",
              "      <td>NaN</td>\n",
              "      <td>NORWICH</td>\n",
              "      <td>...</td>\n",
              "      <td>NaN</td>\n",
              "      <td>NaN</td>\n",
              "      <td>NaN</td>\n",
              "      <td>NaN</td>\n",
              "      <td>NaN</td>\n",
              "      <td>NaN</td>\n",
              "      <td>NaN</td>\n",
              "      <td>NORWICH, CT\\n(41.524304, -72.075821)</td>\n",
              "      <td>NORWICH, CT\\n(41.524304, -72.075821)</td>\n",
              "      <td>Norwich, CT\\n(41.524304, -72.075821)</td>\n",
              "    </tr>\n",
              "    <tr>\n",
              "      <th>2</th>\n",
              "      <td>03/24/2014</td>\n",
              "      <td>Date of death</td>\n",
              "      <td>28.0</td>\n",
              "      <td>Male</td>\n",
              "      <td>White</td>\n",
              "      <td>NaN</td>\n",
              "      <td>HEBRON</td>\n",
              "      <td>NaN</td>\n",
              "      <td>NaN</td>\n",
              "      <td>HEBRON</td>\n",
              "      <td>...</td>\n",
              "      <td>NaN</td>\n",
              "      <td>NaN</td>\n",
              "      <td>NaN</td>\n",
              "      <td>NaN</td>\n",
              "      <td>NaN</td>\n",
              "      <td>NaN</td>\n",
              "      <td>NaN</td>\n",
              "      <td>HEBRON, CT\\n(41.658069, -72.366324)</td>\n",
              "      <td>HEBRON, CT\\n(41.658069, -72.366324)</td>\n",
              "      <td>Marlborough, CT\\n(41.632043, -72.461309)</td>\n",
              "    </tr>\n",
              "    <tr>\n",
              "      <th>3</th>\n",
              "      <td>12/31/2014</td>\n",
              "      <td>Date of death</td>\n",
              "      <td>26.0</td>\n",
              "      <td>Female</td>\n",
              "      <td>White</td>\n",
              "      <td>NaN</td>\n",
              "      <td>BALTIC</td>\n",
              "      <td>NaN</td>\n",
              "      <td>NaN</td>\n",
              "      <td>NaN</td>\n",
              "      <td>...</td>\n",
              "      <td>NaN</td>\n",
              "      <td>NaN</td>\n",
              "      <td>NaN</td>\n",
              "      <td>NaN</td>\n",
              "      <td>NaN</td>\n",
              "      <td>NaN</td>\n",
              "      <td>NaN</td>\n",
              "      <td>BALTIC, CT\\n(41.617221, -72.085031)</td>\n",
              "      <td>CT\\n(41.575155, -72.738288)</td>\n",
              "      <td>Baltic, CT\\n(41.617221, -72.085031)</td>\n",
              "    </tr>\n",
              "    <tr>\n",
              "      <th>4</th>\n",
              "      <td>01/16/2016</td>\n",
              "      <td>Date of death</td>\n",
              "      <td>41.0</td>\n",
              "      <td>Male</td>\n",
              "      <td>White</td>\n",
              "      <td>NaN</td>\n",
              "      <td>SHELTON</td>\n",
              "      <td>FAIRFIELD</td>\n",
              "      <td>CT</td>\n",
              "      <td>SHELTON</td>\n",
              "      <td>...</td>\n",
              "      <td>NaN</td>\n",
              "      <td>NaN</td>\n",
              "      <td>NaN</td>\n",
              "      <td>NaN</td>\n",
              "      <td>NaN</td>\n",
              "      <td>Y</td>\n",
              "      <td>NaN</td>\n",
              "      <td>SHELTON, CT\\n(41.316843, -73.092968)</td>\n",
              "      <td>SHELTON, CT\\n(41.316843, -73.092968)</td>\n",
              "      <td>Bridgeport, CT\\n(41.179195, -73.189476)</td>\n",
              "    </tr>\n",
              "  </tbody>\n",
              "</table>\n",
              "<p>5 rows × 48 columns</p>\n",
              "</div>\n",
              "      <button class=\"colab-df-convert\" onclick=\"convertToInteractive('df-b9513049-f49b-430e-b46a-372383c1a15b')\"\n",
              "              title=\"Convert this dataframe to an interactive table.\"\n",
              "              style=\"display:none;\">\n",
              "        \n",
              "  <svg xmlns=\"http://www.w3.org/2000/svg\" height=\"24px\"viewBox=\"0 0 24 24\"\n",
              "       width=\"24px\">\n",
              "    <path d=\"M0 0h24v24H0V0z\" fill=\"none\"/>\n",
              "    <path d=\"M18.56 5.44l.94 2.06.94-2.06 2.06-.94-2.06-.94-.94-2.06-.94 2.06-2.06.94zm-11 1L8.5 8.5l.94-2.06 2.06-.94-2.06-.94L8.5 2.5l-.94 2.06-2.06.94zm10 10l.94 2.06.94-2.06 2.06-.94-2.06-.94-.94-2.06-.94 2.06-2.06.94z\"/><path d=\"M17.41 7.96l-1.37-1.37c-.4-.4-.92-.59-1.43-.59-.52 0-1.04.2-1.43.59L10.3 9.45l-7.72 7.72c-.78.78-.78 2.05 0 2.83L4 21.41c.39.39.9.59 1.41.59.51 0 1.02-.2 1.41-.59l7.78-7.78 2.81-2.81c.8-.78.8-2.07 0-2.86zM5.41 20L4 18.59l7.72-7.72 1.47 1.35L5.41 20z\"/>\n",
              "  </svg>\n",
              "      </button>\n",
              "      \n",
              "  <style>\n",
              "    .colab-df-container {\n",
              "      display:flex;\n",
              "      flex-wrap:wrap;\n",
              "      gap: 12px;\n",
              "    }\n",
              "\n",
              "    .colab-df-convert {\n",
              "      background-color: #E8F0FE;\n",
              "      border: none;\n",
              "      border-radius: 50%;\n",
              "      cursor: pointer;\n",
              "      display: none;\n",
              "      fill: #1967D2;\n",
              "      height: 32px;\n",
              "      padding: 0 0 0 0;\n",
              "      width: 32px;\n",
              "    }\n",
              "\n",
              "    .colab-df-convert:hover {\n",
              "      background-color: #E2EBFA;\n",
              "      box-shadow: 0px 1px 2px rgba(60, 64, 67, 0.3), 0px 1px 3px 1px rgba(60, 64, 67, 0.15);\n",
              "      fill: #174EA6;\n",
              "    }\n",
              "\n",
              "    [theme=dark] .colab-df-convert {\n",
              "      background-color: #3B4455;\n",
              "      fill: #D2E3FC;\n",
              "    }\n",
              "\n",
              "    [theme=dark] .colab-df-convert:hover {\n",
              "      background-color: #434B5C;\n",
              "      box-shadow: 0px 1px 3px 1px rgba(0, 0, 0, 0.15);\n",
              "      filter: drop-shadow(0px 1px 2px rgba(0, 0, 0, 0.3));\n",
              "      fill: #FFFFFF;\n",
              "    }\n",
              "  </style>\n",
              "\n",
              "      <script>\n",
              "        const buttonEl =\n",
              "          document.querySelector('#df-b9513049-f49b-430e-b46a-372383c1a15b button.colab-df-convert');\n",
              "        buttonEl.style.display =\n",
              "          google.colab.kernel.accessAllowed ? 'block' : 'none';\n",
              "\n",
              "        async function convertToInteractive(key) {\n",
              "          const element = document.querySelector('#df-b9513049-f49b-430e-b46a-372383c1a15b');\n",
              "          const dataTable =\n",
              "            await google.colab.kernel.invokeFunction('convertToInteractive',\n",
              "                                                     [key], {});\n",
              "          if (!dataTable) return;\n",
              "\n",
              "          const docLinkHtml = 'Like what you see? Visit the ' +\n",
              "            '<a target=\"_blank\" href=https://colab.research.google.com/notebooks/data_table.ipynb>data table notebook</a>'\n",
              "            + ' to learn more about interactive tables.';\n",
              "          element.innerHTML = '';\n",
              "          dataTable['output_type'] = 'display_data';\n",
              "          await google.colab.output.renderOutput(dataTable, element);\n",
              "          const docLink = document.createElement('div');\n",
              "          docLink.innerHTML = docLinkHtml;\n",
              "          element.appendChild(docLink);\n",
              "        }\n",
              "      </script>\n",
              "    </div>\n",
              "  </div>\n",
              "  "
            ],
            "text/plain": [
              "         Date      Date Type   Age     Sex   Race Ethnicity Residence City  \\\n",
              "0  05/29/2012  Date of death  37.0    Male  Black       NaN       STAMFORD   \n",
              "1  06/27/2012  Date of death  37.0    Male  White       NaN        NORWICH   \n",
              "2  03/24/2014  Date of death  28.0    Male  White       NaN         HEBRON   \n",
              "3  12/31/2014  Date of death  26.0  Female  White       NaN         BALTIC   \n",
              "4  01/16/2016  Date of death  41.0    Male  White       NaN        SHELTON   \n",
              "\n",
              "  Residence County Residence State Injury City  ... Xylazine Gabapentin  \\\n",
              "0        FAIRFIELD             NaN    STAMFORD  ...      NaN        NaN   \n",
              "1       NEW LONDON             NaN     NORWICH  ...      NaN        NaN   \n",
              "2              NaN             NaN      HEBRON  ...      NaN        NaN   \n",
              "3              NaN             NaN         NaN  ...      NaN        NaN   \n",
              "4        FAIRFIELD              CT     SHELTON  ...      NaN        NaN   \n",
              "\n",
              "  Opiate NOS Heroin/Morph/Codeine Other Opioid Any Opioid Other  \\\n",
              "0        NaN                  NaN          NaN        NaN   NaN   \n",
              "1        NaN                  NaN          NaN        NaN   NaN   \n",
              "2        NaN                  NaN          NaN        NaN   NaN   \n",
              "3        NaN                  NaN          NaN        NaN   NaN   \n",
              "4        NaN                  NaN          NaN          Y   NaN   \n",
              "\n",
              "                        ResidenceCityGeo  \\\n",
              "0  STAMFORD, CT\\n(41.051924, -73.539475)   \n",
              "1   NORWICH, CT\\n(41.524304, -72.075821)   \n",
              "2    HEBRON, CT\\n(41.658069, -72.366324)   \n",
              "3    BALTIC, CT\\n(41.617221, -72.085031)   \n",
              "4   SHELTON, CT\\n(41.316843, -73.092968)   \n",
              "\n",
              "                           InjuryCityGeo  \\\n",
              "0  STAMFORD, CT\\n(41.051924, -73.539475)   \n",
              "1   NORWICH, CT\\n(41.524304, -72.075821)   \n",
              "2    HEBRON, CT\\n(41.658069, -72.366324)   \n",
              "3            CT\\n(41.575155, -72.738288)   \n",
              "4   SHELTON, CT\\n(41.316843, -73.092968)   \n",
              "\n",
              "                               DeathCityGeo  \n",
              "0               CT\\n(41.575155, -72.738288)  \n",
              "1      Norwich, CT\\n(41.524304, -72.075821)  \n",
              "2  Marlborough, CT\\n(41.632043, -72.461309)  \n",
              "3       Baltic, CT\\n(41.617221, -72.085031)  \n",
              "4   Bridgeport, CT\\n(41.179195, -73.189476)  \n",
              "\n",
              "[5 rows x 48 columns]"
            ]
          },
          "execution_count": 2,
          "metadata": {},
          "output_type": "execute_result"
        }
      ],
      "source": [
        "df = pd.read_csv('Accidental_Drug_Related_Deaths_2012-2021.csv')\n",
        "df.head()"
      ]
    },
    {
      "cell_type": "code",
      "execution_count": null,
      "id": "da0d3acd",
      "metadata": {
        "colab": {
          "base_uri": "https://localhost:8080/"
        },
        "id": "da0d3acd",
        "outputId": "999f5147-5f8a-4431-ff81-0a16d76de620"
      },
      "outputs": [
        {
          "data": {
            "text/plain": [
              "(9202, 48)"
            ]
          },
          "execution_count": 3,
          "metadata": {},
          "output_type": "execute_result"
        }
      ],
      "source": [
        "df.shape"
      ]
    },
    {
      "cell_type": "markdown",
      "id": "ApJHmBRh-Qk5",
      "metadata": {
        "id": "ApJHmBRh-Qk5"
      },
      "source": [
        "Printing the number of null/empty cells in each column/attribute"
      ]
    },
    {
      "cell_type": "code",
      "execution_count": null,
      "id": "eb45c1c1",
      "metadata": {
        "colab": {
          "base_uri": "https://localhost:8080/"
        },
        "id": "eb45c1c1",
        "outputId": "08ff9153-81e3-4d3c-9bcb-deb0cdd1ad17"
      },
      "outputs": [
        {
          "data": {
            "text/plain": [
              "Date                                0\n",
              "Date Type                           0\n",
              "Age                                 2\n",
              "Sex                                 8\n",
              "Race                               24\n",
              "Ethnicity                        7915\n",
              "Residence City                    389\n",
              "Residence County                 1042\n",
              "Residence State                  1776\n",
              "Injury City                       178\n",
              "Injury County                    3288\n",
              "Injury State                     2912\n",
              "Injury Place                      102\n",
              "Description of Injury             791\n",
              "Death City                          5\n",
              "Death County                     1112\n",
              "Death State                      2329\n",
              "Location                           22\n",
              "Location if Other                8363\n",
              "Cause of Death                      0\n",
              "Manner of Death                     9\n",
              "Other Significant Conditions     8387\n",
              "Heroin                           5855\n",
              "Heroin death certificate (DC)    8462\n",
              "Cocaine                          6031\n",
              "Fentanyl                         3530\n",
              "Fentanyl Analogue                8474\n",
              "Oxycodone                        8325\n",
              "Oxymorphone                      9054\n",
              "Ethanol                          6732\n",
              "Hydrocodone                      9047\n",
              "Benzodiazepine                   6964\n",
              "Methadone                        8388\n",
              "Meth/Amphetamine                 9075\n",
              "Amphet                           8917\n",
              "Tramad                           8944\n",
              "Hydromorphone                    9146\n",
              "Morphine (Not Heroin)            9153\n",
              "Xylazine                         8761\n",
              "Gabapentin                       9020\n",
              "Opiate NOS                       9083\n",
              "Heroin/Morph/Codeine             7250\n",
              "Other Opioid                     9112\n",
              "Any Opioid                       2921\n",
              "Other                            8548\n",
              "ResidenceCityGeo                  165\n",
              "InjuryCityGeo                     211\n",
              "DeathCityGeo                        1\n",
              "dtype: int64"
            ]
          },
          "execution_count": 4,
          "metadata": {},
          "output_type": "execute_result"
        }
      ],
      "source": [
        "df.isnull().sum()"
      ]
    },
    {
      "cell_type": "markdown",
      "id": "e0NPgiPz-ZBm",
      "metadata": {
        "id": "e0NPgiPz-ZBm"
      },
      "source": [
        "Printing the data types of values stored in each column"
      ]
    },
    {
      "cell_type": "code",
      "execution_count": null,
      "id": "df0bc007",
      "metadata": {
        "colab": {
          "base_uri": "https://localhost:8080/"
        },
        "id": "df0bc007",
        "outputId": "cf270fcc-b64c-41bd-eac5-a2ee42ab0773"
      },
      "outputs": [
        {
          "data": {
            "text/plain": [
              "Date                              object\n",
              "Date Type                         object\n",
              "Age                              float64\n",
              "Sex                               object\n",
              "Race                              object\n",
              "Ethnicity                         object\n",
              "Residence City                    object\n",
              "Residence County                  object\n",
              "Residence State                   object\n",
              "Injury City                       object\n",
              "Injury County                     object\n",
              "Injury State                      object\n",
              "Injury Place                      object\n",
              "Description of Injury             object\n",
              "Death City                        object\n",
              "Death County                      object\n",
              "Death State                       object\n",
              "Location                          object\n",
              "Location if Other                 object\n",
              "Cause of Death                    object\n",
              "Manner of Death                   object\n",
              "Other Significant Conditions      object\n",
              "Heroin                            object\n",
              "Heroin death certificate (DC)     object\n",
              "Cocaine                           object\n",
              "Fentanyl                          object\n",
              "Fentanyl Analogue                 object\n",
              "Oxycodone                         object\n",
              "Oxymorphone                       object\n",
              "Ethanol                           object\n",
              "Hydrocodone                       object\n",
              "Benzodiazepine                    object\n",
              "Methadone                         object\n",
              "Meth/Amphetamine                  object\n",
              "Amphet                            object\n",
              "Tramad                            object\n",
              "Hydromorphone                     object\n",
              "Morphine (Not Heroin)             object\n",
              "Xylazine                          object\n",
              "Gabapentin                        object\n",
              "Opiate NOS                        object\n",
              "Heroin/Morph/Codeine              object\n",
              "Other Opioid                      object\n",
              "Any Opioid                        object\n",
              "Other                             object\n",
              "ResidenceCityGeo                  object\n",
              "InjuryCityGeo                     object\n",
              "DeathCityGeo                      object\n",
              "dtype: object"
            ]
          },
          "execution_count": 5,
          "metadata": {},
          "output_type": "execute_result"
        }
      ],
      "source": [
        "df.dtypes"
      ]
    },
    {
      "cell_type": "markdown",
      "id": "FL9wskr8-l63",
      "metadata": {
        "id": "FL9wskr8-l63"
      },
      "source": [
        "Converting data to a format that is process-able by Pandas"
      ]
    },
    {
      "cell_type": "code",
      "execution_count": null,
      "id": "751d62ea",
      "metadata": {
        "id": "751d62ea"
      },
      "outputs": [],
      "source": [
        "df['Date']=pd.to_datetime(df['Date'])"
      ]
    },
    {
      "cell_type": "markdown",
      "id": "lkH5biGb-t6V",
      "metadata": {
        "id": "lkH5biGb-t6V"
      },
      "source": [
        "As 'ResidenceCityGeo'had the name of the State as well as the coordinates, we split the two and then add them as seperate columns in our DataFrame. We do the same with 'InjuryCity' and 'DeathCity'."
      ]
    },
    {
      "cell_type": "code",
      "execution_count": null,
      "id": "d85e924f",
      "metadata": {
        "id": "d85e924f"
      },
      "outputs": [],
      "source": [
        "df['RCG']=df['ResidenceCityGeo'].str.split(',').str[0]"
      ]
    },
    {
      "cell_type": "code",
      "execution_count": null,
      "id": "b423f788",
      "metadata": {
        "colab": {
          "base_uri": "https://localhost:8080/"
        },
        "id": "b423f788",
        "outputId": "f9e938a7-1df3-4cfe-9190-ddf19be210e6"
      },
      "outputs": [
        {
          "data": {
            "text/plain": [
              "Residence City    0.0\n",
              "RCG               0.0\n",
              "dtype: float64"
            ]
          },
          "execution_count": 8,
          "metadata": {},
          "output_type": "execute_result"
        }
      ],
      "source": [
        "df[['Residence City','RCG']].loc[(df['Residence City']!=df['RCG']) & (df['Residence City'].notnull()) & (df['RCG'].notnull())].sum()"
      ]
    },
    {
      "cell_type": "code",
      "execution_count": null,
      "id": "4e58fed6",
      "metadata": {
        "id": "4e58fed6"
      },
      "outputs": [],
      "source": [
        "df['ICG']=df['InjuryCityGeo'].str.split(',').str[0]\n",
        "df['Injury City']=df['Injury City'].str.split(',').str[0]"
      ]
    },
    {
      "cell_type": "code",
      "execution_count": null,
      "id": "3fb4619a",
      "metadata": {
        "colab": {
          "base_uri": "https://localhost:8080/"
        },
        "id": "3fb4619a",
        "outputId": "eff9082e-1aa9-4592-f7ca-da53fea38b85"
      },
      "outputs": [
        {
          "data": {
            "text/plain": [
              "Injury City    0.0\n",
              "ICG            0.0\n",
              "dtype: float64"
            ]
          },
          "execution_count": 10,
          "metadata": {},
          "output_type": "execute_result"
        }
      ],
      "source": [
        "df[['Injury City','ICG']].loc[(df['Injury City']!=df['ICG']) & (df['Injury City'].notnull()) & (df['ICG'].notnull())].sum()"
      ]
    },
    {
      "cell_type": "code",
      "execution_count": null,
      "id": "4ba2c192",
      "metadata": {
        "id": "4ba2c192"
      },
      "outputs": [],
      "source": [
        "df['DCG']=df['DeathCityGeo'].str.split(',').str[0]\n",
        "df['DCG']=df['DCG'].str.upper()"
      ]
    },
    {
      "cell_type": "code",
      "execution_count": null,
      "id": "95810517",
      "metadata": {
        "colab": {
          "base_uri": "https://localhost:8080/"
        },
        "id": "95810517",
        "outputId": "e557ebbd-2785-4cc4-fea0-1a21643652ab"
      },
      "outputs": [
        {
          "data": {
            "text/plain": [
              "Death City    0.0\n",
              "DCG           0.0\n",
              "dtype: float64"
            ]
          },
          "execution_count": 12,
          "metadata": {},
          "output_type": "execute_result"
        }
      ],
      "source": [
        "df[['Death City','DCG']].loc[(df['Death City']!=df['DCG']) & (df['Death City'].notnull()) & (df['DCG'].notnull())].sum()"
      ]
    },
    {
      "cell_type": "code",
      "execution_count": null,
      "id": "8a07aba8",
      "metadata": {
        "id": "8a07aba8"
      },
      "outputs": [],
      "source": [
        "df['ResidenceCityGeo']=df['ResidenceCityGeo'].str.split('\\n').str[1]\n",
        "df['InjuryCityGeo']=df['InjuryCityGeo'].str.split('\\n').str[1]\n",
        "df['DeathCityGeo']=df['DeathCityGeo'].str.split('\\n').str[1]"
      ]
    },
    {
      "cell_type": "markdown",
      "id": "jyz0Hobd_WgI",
      "metadata": {
        "id": "jyz0Hobd_WgI"
      },
      "source": [
        "Updated DataFrame"
      ]
    },
    {
      "cell_type": "code",
      "execution_count": null,
      "id": "fe25e3ca",
      "metadata": {
        "colab": {
          "base_uri": "https://localhost:8080/",
          "height": 490
        },
        "id": "fe25e3ca",
        "outputId": "bb1e2a07-0f4e-4d5e-f694-6e65d06a339a"
      },
      "outputs": [
        {
          "data": {
            "text/html": [
              "\n",
              "  <div id=\"df-d1464cda-17c7-485a-a601-b302a8ed13ff\">\n",
              "    <div class=\"colab-df-container\">\n",
              "      <div>\n",
              "<style scoped>\n",
              "    .dataframe tbody tr th:only-of-type {\n",
              "        vertical-align: middle;\n",
              "    }\n",
              "\n",
              "    .dataframe tbody tr th {\n",
              "        vertical-align: top;\n",
              "    }\n",
              "\n",
              "    .dataframe thead th {\n",
              "        text-align: right;\n",
              "    }\n",
              "</style>\n",
              "<table border=\"1\" class=\"dataframe\">\n",
              "  <thead>\n",
              "    <tr style=\"text-align: right;\">\n",
              "      <th></th>\n",
              "      <th>Date</th>\n",
              "      <th>Date Type</th>\n",
              "      <th>Age</th>\n",
              "      <th>Sex</th>\n",
              "      <th>Race</th>\n",
              "      <th>Ethnicity</th>\n",
              "      <th>Residence City</th>\n",
              "      <th>Residence County</th>\n",
              "      <th>Residence State</th>\n",
              "      <th>Injury City</th>\n",
              "      <th>...</th>\n",
              "      <th>Heroin/Morph/Codeine</th>\n",
              "      <th>Other Opioid</th>\n",
              "      <th>Any Opioid</th>\n",
              "      <th>Other</th>\n",
              "      <th>ResidenceCityGeo</th>\n",
              "      <th>InjuryCityGeo</th>\n",
              "      <th>DeathCityGeo</th>\n",
              "      <th>RCG</th>\n",
              "      <th>ICG</th>\n",
              "      <th>DCG</th>\n",
              "    </tr>\n",
              "  </thead>\n",
              "  <tbody>\n",
              "    <tr>\n",
              "      <th>0</th>\n",
              "      <td>2012-05-29</td>\n",
              "      <td>Date of death</td>\n",
              "      <td>37.0</td>\n",
              "      <td>Male</td>\n",
              "      <td>Black</td>\n",
              "      <td>NaN</td>\n",
              "      <td>STAMFORD</td>\n",
              "      <td>FAIRFIELD</td>\n",
              "      <td>NaN</td>\n",
              "      <td>STAMFORD</td>\n",
              "      <td>...</td>\n",
              "      <td>NaN</td>\n",
              "      <td>NaN</td>\n",
              "      <td>NaN</td>\n",
              "      <td>NaN</td>\n",
              "      <td>(41.051924, -73.539475)</td>\n",
              "      <td>(41.051924, -73.539475)</td>\n",
              "      <td>(41.575155, -72.738288)</td>\n",
              "      <td>STAMFORD</td>\n",
              "      <td>STAMFORD</td>\n",
              "      <td>CT\\n(41.575155</td>\n",
              "    </tr>\n",
              "    <tr>\n",
              "      <th>1</th>\n",
              "      <td>2012-06-27</td>\n",
              "      <td>Date of death</td>\n",
              "      <td>37.0</td>\n",
              "      <td>Male</td>\n",
              "      <td>White</td>\n",
              "      <td>NaN</td>\n",
              "      <td>NORWICH</td>\n",
              "      <td>NEW LONDON</td>\n",
              "      <td>NaN</td>\n",
              "      <td>NORWICH</td>\n",
              "      <td>...</td>\n",
              "      <td>NaN</td>\n",
              "      <td>NaN</td>\n",
              "      <td>NaN</td>\n",
              "      <td>NaN</td>\n",
              "      <td>(41.524304, -72.075821)</td>\n",
              "      <td>(41.524304, -72.075821)</td>\n",
              "      <td>(41.524304, -72.075821)</td>\n",
              "      <td>NORWICH</td>\n",
              "      <td>NORWICH</td>\n",
              "      <td>NORWICH</td>\n",
              "    </tr>\n",
              "    <tr>\n",
              "      <th>2</th>\n",
              "      <td>2014-03-24</td>\n",
              "      <td>Date of death</td>\n",
              "      <td>28.0</td>\n",
              "      <td>Male</td>\n",
              "      <td>White</td>\n",
              "      <td>NaN</td>\n",
              "      <td>HEBRON</td>\n",
              "      <td>NaN</td>\n",
              "      <td>NaN</td>\n",
              "      <td>HEBRON</td>\n",
              "      <td>...</td>\n",
              "      <td>NaN</td>\n",
              "      <td>NaN</td>\n",
              "      <td>NaN</td>\n",
              "      <td>NaN</td>\n",
              "      <td>(41.658069, -72.366324)</td>\n",
              "      <td>(41.658069, -72.366324)</td>\n",
              "      <td>(41.632043, -72.461309)</td>\n",
              "      <td>HEBRON</td>\n",
              "      <td>HEBRON</td>\n",
              "      <td>MARLBOROUGH</td>\n",
              "    </tr>\n",
              "    <tr>\n",
              "      <th>3</th>\n",
              "      <td>2014-12-31</td>\n",
              "      <td>Date of death</td>\n",
              "      <td>26.0</td>\n",
              "      <td>Female</td>\n",
              "      <td>White</td>\n",
              "      <td>NaN</td>\n",
              "      <td>BALTIC</td>\n",
              "      <td>NaN</td>\n",
              "      <td>NaN</td>\n",
              "      <td>NaN</td>\n",
              "      <td>...</td>\n",
              "      <td>NaN</td>\n",
              "      <td>NaN</td>\n",
              "      <td>NaN</td>\n",
              "      <td>NaN</td>\n",
              "      <td>(41.617221, -72.085031)</td>\n",
              "      <td>(41.575155, -72.738288)</td>\n",
              "      <td>(41.617221, -72.085031)</td>\n",
              "      <td>BALTIC</td>\n",
              "      <td>CT\\n(41.575155</td>\n",
              "      <td>BALTIC</td>\n",
              "    </tr>\n",
              "    <tr>\n",
              "      <th>4</th>\n",
              "      <td>2016-01-16</td>\n",
              "      <td>Date of death</td>\n",
              "      <td>41.0</td>\n",
              "      <td>Male</td>\n",
              "      <td>White</td>\n",
              "      <td>NaN</td>\n",
              "      <td>SHELTON</td>\n",
              "      <td>FAIRFIELD</td>\n",
              "      <td>CT</td>\n",
              "      <td>SHELTON</td>\n",
              "      <td>...</td>\n",
              "      <td>NaN</td>\n",
              "      <td>NaN</td>\n",
              "      <td>Y</td>\n",
              "      <td>NaN</td>\n",
              "      <td>(41.316843, -73.092968)</td>\n",
              "      <td>(41.316843, -73.092968)</td>\n",
              "      <td>(41.179195, -73.189476)</td>\n",
              "      <td>SHELTON</td>\n",
              "      <td>SHELTON</td>\n",
              "      <td>BRIDGEPORT</td>\n",
              "    </tr>\n",
              "  </tbody>\n",
              "</table>\n",
              "<p>5 rows × 51 columns</p>\n",
              "</div>\n",
              "      <button class=\"colab-df-convert\" onclick=\"convertToInteractive('df-d1464cda-17c7-485a-a601-b302a8ed13ff')\"\n",
              "              title=\"Convert this dataframe to an interactive table.\"\n",
              "              style=\"display:none;\">\n",
              "        \n",
              "  <svg xmlns=\"http://www.w3.org/2000/svg\" height=\"24px\"viewBox=\"0 0 24 24\"\n",
              "       width=\"24px\">\n",
              "    <path d=\"M0 0h24v24H0V0z\" fill=\"none\"/>\n",
              "    <path d=\"M18.56 5.44l.94 2.06.94-2.06 2.06-.94-2.06-.94-.94-2.06-.94 2.06-2.06.94zm-11 1L8.5 8.5l.94-2.06 2.06-.94-2.06-.94L8.5 2.5l-.94 2.06-2.06.94zm10 10l.94 2.06.94-2.06 2.06-.94-2.06-.94-.94-2.06-.94 2.06-2.06.94z\"/><path d=\"M17.41 7.96l-1.37-1.37c-.4-.4-.92-.59-1.43-.59-.52 0-1.04.2-1.43.59L10.3 9.45l-7.72 7.72c-.78.78-.78 2.05 0 2.83L4 21.41c.39.39.9.59 1.41.59.51 0 1.02-.2 1.41-.59l7.78-7.78 2.81-2.81c.8-.78.8-2.07 0-2.86zM5.41 20L4 18.59l7.72-7.72 1.47 1.35L5.41 20z\"/>\n",
              "  </svg>\n",
              "      </button>\n",
              "      \n",
              "  <style>\n",
              "    .colab-df-container {\n",
              "      display:flex;\n",
              "      flex-wrap:wrap;\n",
              "      gap: 12px;\n",
              "    }\n",
              "\n",
              "    .colab-df-convert {\n",
              "      background-color: #E8F0FE;\n",
              "      border: none;\n",
              "      border-radius: 50%;\n",
              "      cursor: pointer;\n",
              "      display: none;\n",
              "      fill: #1967D2;\n",
              "      height: 32px;\n",
              "      padding: 0 0 0 0;\n",
              "      width: 32px;\n",
              "    }\n",
              "\n",
              "    .colab-df-convert:hover {\n",
              "      background-color: #E2EBFA;\n",
              "      box-shadow: 0px 1px 2px rgba(60, 64, 67, 0.3), 0px 1px 3px 1px rgba(60, 64, 67, 0.15);\n",
              "      fill: #174EA6;\n",
              "    }\n",
              "\n",
              "    [theme=dark] .colab-df-convert {\n",
              "      background-color: #3B4455;\n",
              "      fill: #D2E3FC;\n",
              "    }\n",
              "\n",
              "    [theme=dark] .colab-df-convert:hover {\n",
              "      background-color: #434B5C;\n",
              "      box-shadow: 0px 1px 3px 1px rgba(0, 0, 0, 0.15);\n",
              "      filter: drop-shadow(0px 1px 2px rgba(0, 0, 0, 0.3));\n",
              "      fill: #FFFFFF;\n",
              "    }\n",
              "  </style>\n",
              "\n",
              "      <script>\n",
              "        const buttonEl =\n",
              "          document.querySelector('#df-d1464cda-17c7-485a-a601-b302a8ed13ff button.colab-df-convert');\n",
              "        buttonEl.style.display =\n",
              "          google.colab.kernel.accessAllowed ? 'block' : 'none';\n",
              "\n",
              "        async function convertToInteractive(key) {\n",
              "          const element = document.querySelector('#df-d1464cda-17c7-485a-a601-b302a8ed13ff');\n",
              "          const dataTable =\n",
              "            await google.colab.kernel.invokeFunction('convertToInteractive',\n",
              "                                                     [key], {});\n",
              "          if (!dataTable) return;\n",
              "\n",
              "          const docLinkHtml = 'Like what you see? Visit the ' +\n",
              "            '<a target=\"_blank\" href=https://colab.research.google.com/notebooks/data_table.ipynb>data table notebook</a>'\n",
              "            + ' to learn more about interactive tables.';\n",
              "          element.innerHTML = '';\n",
              "          dataTable['output_type'] = 'display_data';\n",
              "          await google.colab.output.renderOutput(dataTable, element);\n",
              "          const docLink = document.createElement('div');\n",
              "          docLink.innerHTML = docLinkHtml;\n",
              "          element.appendChild(docLink);\n",
              "        }\n",
              "      </script>\n",
              "    </div>\n",
              "  </div>\n",
              "  "
            ],
            "text/plain": [
              "        Date      Date Type   Age     Sex   Race Ethnicity Residence City  \\\n",
              "0 2012-05-29  Date of death  37.0    Male  Black       NaN       STAMFORD   \n",
              "1 2012-06-27  Date of death  37.0    Male  White       NaN        NORWICH   \n",
              "2 2014-03-24  Date of death  28.0    Male  White       NaN         HEBRON   \n",
              "3 2014-12-31  Date of death  26.0  Female  White       NaN         BALTIC   \n",
              "4 2016-01-16  Date of death  41.0    Male  White       NaN        SHELTON   \n",
              "\n",
              "  Residence County Residence State Injury City  ... Heroin/Morph/Codeine  \\\n",
              "0        FAIRFIELD             NaN    STAMFORD  ...                  NaN   \n",
              "1       NEW LONDON             NaN     NORWICH  ...                  NaN   \n",
              "2              NaN             NaN      HEBRON  ...                  NaN   \n",
              "3              NaN             NaN         NaN  ...                  NaN   \n",
              "4        FAIRFIELD              CT     SHELTON  ...                  NaN   \n",
              "\n",
              "  Other Opioid Any Opioid Other         ResidenceCityGeo  \\\n",
              "0          NaN        NaN   NaN  (41.051924, -73.539475)   \n",
              "1          NaN        NaN   NaN  (41.524304, -72.075821)   \n",
              "2          NaN        NaN   NaN  (41.658069, -72.366324)   \n",
              "3          NaN        NaN   NaN  (41.617221, -72.085031)   \n",
              "4          NaN          Y   NaN  (41.316843, -73.092968)   \n",
              "\n",
              "             InjuryCityGeo             DeathCityGeo       RCG             ICG  \\\n",
              "0  (41.051924, -73.539475)  (41.575155, -72.738288)  STAMFORD        STAMFORD   \n",
              "1  (41.524304, -72.075821)  (41.524304, -72.075821)   NORWICH         NORWICH   \n",
              "2  (41.658069, -72.366324)  (41.632043, -72.461309)    HEBRON          HEBRON   \n",
              "3  (41.575155, -72.738288)  (41.617221, -72.085031)    BALTIC  CT\\n(41.575155   \n",
              "4  (41.316843, -73.092968)  (41.179195, -73.189476)   SHELTON         SHELTON   \n",
              "\n",
              "              DCG  \n",
              "0  CT\\n(41.575155  \n",
              "1         NORWICH  \n",
              "2     MARLBOROUGH  \n",
              "3          BALTIC  \n",
              "4      BRIDGEPORT  \n",
              "\n",
              "[5 rows x 51 columns]"
            ]
          },
          "execution_count": 14,
          "metadata": {},
          "output_type": "execute_result"
        }
      ],
      "source": [
        "df.head()"
      ]
    },
    {
      "cell_type": "markdown",
      "id": "uEr-Ht2y_f-w",
      "metadata": {
        "id": "uEr-Ht2y_f-w"
      },
      "source": [
        "We drop these columns as we do not need them anymore due to the aforementioned splitting."
      ]
    },
    {
      "cell_type": "code",
      "execution_count": null,
      "id": "b26d74e8",
      "metadata": {
        "id": "b26d74e8"
      },
      "outputs": [],
      "source": [
        "df=df.drop(['RCG','ICG','DCG'],axis=1)"
      ]
    },
    {
      "cell_type": "code",
      "execution_count": null,
      "id": "210a4988",
      "metadata": {
        "id": "210a4988"
      },
      "outputs": [],
      "source": [
        "cols = df.columns"
      ]
    },
    {
      "cell_type": "code",
      "execution_count": null,
      "id": "59056af9",
      "metadata": {
        "id": "59056af9"
      },
      "outputs": [],
      "source": [
        "drugs = cols[22:44]"
      ]
    },
    {
      "cell_type": "markdown",
      "id": "ciIO5eK-_oMs",
      "metadata": {
        "id": "ciIO5eK-_oMs"
      },
      "source": [
        "Replacing the 'Y' & 'Nan' values with 1 & 0"
      ]
    },
    {
      "cell_type": "code",
      "execution_count": null,
      "id": "2ed1f7e7",
      "metadata": {
        "id": "2ed1f7e7"
      },
      "outputs": [],
      "source": [
        "for i in drugs:\n",
        "    df[i] = df[i].replace(['Y',np.nan],[1,0])"
      ]
    },
    {
      "cell_type": "code",
      "execution_count": null,
      "id": "51224c5a",
      "metadata": {
        "colab": {
          "base_uri": "https://localhost:8080/"
        },
        "id": "51224c5a",
        "outputId": "96da65ba-2c99-4af0-fa20-a5f7aebf9a02"
      },
      "outputs": [
        {
          "data": {
            "text/plain": [
              "Index(['Heroin', 'Heroin death certificate (DC)', 'Cocaine', 'Fentanyl',\n",
              "       'Fentanyl Analogue', 'Oxycodone', 'Oxymorphone', 'Ethanol',\n",
              "       'Hydrocodone', 'Benzodiazepine', 'Methadone', 'Meth/Amphetamine',\n",
              "       'Amphet', 'Tramad', 'Hydromorphone', 'Morphine (Not Heroin)',\n",
              "       'Xylazine', 'Gabapentin', 'Opiate NOS', 'Heroin/Morph/Codeine',\n",
              "       'Other Opioid', 'Any Opioid'],\n",
              "      dtype='object')"
            ]
          },
          "execution_count": 19,
          "metadata": {},
          "output_type": "execute_result"
        }
      ],
      "source": [
        "drugs"
      ]
    },
    {
      "cell_type": "markdown",
      "id": "WwA-f4FQ_4KY",
      "metadata": {
        "id": "WwA-f4FQ_4KY"
      },
      "source": [
        "Summary Statistics"
      ]
    },
    {
      "cell_type": "code",
      "execution_count": null,
      "id": "a9d8cb68",
      "metadata": {
        "colab": {
          "base_uri": "https://localhost:8080/",
          "height": 416
        },
        "id": "a9d8cb68",
        "outputId": "9c6c5405-ca01-446c-867d-a3e2df2ab470"
      },
      "outputs": [
        {
          "data": {
            "text/html": [
              "\n",
              "  <div id=\"df-26f8caf6-144f-4cfe-ad98-cc8c6fa0aeed\">\n",
              "    <div class=\"colab-df-container\">\n",
              "      <div>\n",
              "<style scoped>\n",
              "    .dataframe tbody tr th:only-of-type {\n",
              "        vertical-align: middle;\n",
              "    }\n",
              "\n",
              "    .dataframe tbody tr th {\n",
              "        vertical-align: top;\n",
              "    }\n",
              "\n",
              "    .dataframe thead th {\n",
              "        text-align: right;\n",
              "    }\n",
              "</style>\n",
              "<table border=\"1\" class=\"dataframe\">\n",
              "  <thead>\n",
              "    <tr style=\"text-align: right;\">\n",
              "      <th></th>\n",
              "      <th>Age</th>\n",
              "      <th>Heroin</th>\n",
              "      <th>Heroin death certificate (DC)</th>\n",
              "      <th>Cocaine</th>\n",
              "      <th>Fentanyl Analogue</th>\n",
              "      <th>Oxycodone</th>\n",
              "      <th>Oxymorphone</th>\n",
              "      <th>Hydrocodone</th>\n",
              "      <th>Benzodiazepine</th>\n",
              "      <th>Methadone</th>\n",
              "      <th>Meth/Amphetamine</th>\n",
              "      <th>Amphet</th>\n",
              "      <th>Tramad</th>\n",
              "      <th>Hydromorphone</th>\n",
              "      <th>Xylazine</th>\n",
              "      <th>Gabapentin</th>\n",
              "      <th>Opiate NOS</th>\n",
              "      <th>Heroin/Morph/Codeine</th>\n",
              "      <th>Other Opioid</th>\n",
              "    </tr>\n",
              "  </thead>\n",
              "  <tbody>\n",
              "    <tr>\n",
              "      <th>count</th>\n",
              "      <td>9200.000000</td>\n",
              "      <td>9202.000000</td>\n",
              "      <td>9202.000000</td>\n",
              "      <td>9202.000000</td>\n",
              "      <td>9202.000000</td>\n",
              "      <td>9202.000000</td>\n",
              "      <td>9202.000000</td>\n",
              "      <td>9202.000000</td>\n",
              "      <td>9202.000000</td>\n",
              "      <td>9202.000000</td>\n",
              "      <td>9202.000000</td>\n",
              "      <td>9202.000000</td>\n",
              "      <td>9202.000000</td>\n",
              "      <td>9202.000000</td>\n",
              "      <td>9202.000000</td>\n",
              "      <td>9202.000000</td>\n",
              "      <td>9202.000000</td>\n",
              "      <td>9202.000000</td>\n",
              "      <td>9202.000000</td>\n",
              "    </tr>\n",
              "    <tr>\n",
              "      <th>mean</th>\n",
              "      <td>43.023370</td>\n",
              "      <td>0.363725</td>\n",
              "      <td>0.080417</td>\n",
              "      <td>0.344599</td>\n",
              "      <td>0.079113</td>\n",
              "      <td>0.095305</td>\n",
              "      <td>0.016083</td>\n",
              "      <td>0.016844</td>\n",
              "      <td>0.243208</td>\n",
              "      <td>0.088459</td>\n",
              "      <td>0.013801</td>\n",
              "      <td>0.030972</td>\n",
              "      <td>0.028037</td>\n",
              "      <td>0.006086</td>\n",
              "      <td>0.047924</td>\n",
              "      <td>0.019778</td>\n",
              "      <td>0.012932</td>\n",
              "      <td>0.212128</td>\n",
              "      <td>0.009780</td>\n",
              "    </tr>\n",
              "    <tr>\n",
              "      <th>std</th>\n",
              "      <td>12.502644</td>\n",
              "      <td>0.481097</td>\n",
              "      <td>0.271953</td>\n",
              "      <td>0.475263</td>\n",
              "      <td>0.269930</td>\n",
              "      <td>0.293652</td>\n",
              "      <td>0.125803</td>\n",
              "      <td>0.128694</td>\n",
              "      <td>0.429043</td>\n",
              "      <td>0.283977</td>\n",
              "      <td>0.116672</td>\n",
              "      <td>0.173250</td>\n",
              "      <td>0.165089</td>\n",
              "      <td>0.077777</td>\n",
              "      <td>0.213618</td>\n",
              "      <td>0.139245</td>\n",
              "      <td>0.112987</td>\n",
              "      <td>0.408837</td>\n",
              "      <td>0.098417</td>\n",
              "    </tr>\n",
              "    <tr>\n",
              "      <th>min</th>\n",
              "      <td>14.000000</td>\n",
              "      <td>0.000000</td>\n",
              "      <td>0.000000</td>\n",
              "      <td>0.000000</td>\n",
              "      <td>0.000000</td>\n",
              "      <td>0.000000</td>\n",
              "      <td>0.000000</td>\n",
              "      <td>0.000000</td>\n",
              "      <td>0.000000</td>\n",
              "      <td>0.000000</td>\n",
              "      <td>0.000000</td>\n",
              "      <td>0.000000</td>\n",
              "      <td>0.000000</td>\n",
              "      <td>0.000000</td>\n",
              "      <td>0.000000</td>\n",
              "      <td>0.000000</td>\n",
              "      <td>0.000000</td>\n",
              "      <td>0.000000</td>\n",
              "      <td>0.000000</td>\n",
              "    </tr>\n",
              "    <tr>\n",
              "      <th>25%</th>\n",
              "      <td>33.000000</td>\n",
              "      <td>0.000000</td>\n",
              "      <td>0.000000</td>\n",
              "      <td>0.000000</td>\n",
              "      <td>0.000000</td>\n",
              "      <td>0.000000</td>\n",
              "      <td>0.000000</td>\n",
              "      <td>0.000000</td>\n",
              "      <td>0.000000</td>\n",
              "      <td>0.000000</td>\n",
              "      <td>0.000000</td>\n",
              "      <td>0.000000</td>\n",
              "      <td>0.000000</td>\n",
              "      <td>0.000000</td>\n",
              "      <td>0.000000</td>\n",
              "      <td>0.000000</td>\n",
              "      <td>0.000000</td>\n",
              "      <td>0.000000</td>\n",
              "      <td>0.000000</td>\n",
              "    </tr>\n",
              "    <tr>\n",
              "      <th>50%</th>\n",
              "      <td>43.000000</td>\n",
              "      <td>0.000000</td>\n",
              "      <td>0.000000</td>\n",
              "      <td>0.000000</td>\n",
              "      <td>0.000000</td>\n",
              "      <td>0.000000</td>\n",
              "      <td>0.000000</td>\n",
              "      <td>0.000000</td>\n",
              "      <td>0.000000</td>\n",
              "      <td>0.000000</td>\n",
              "      <td>0.000000</td>\n",
              "      <td>0.000000</td>\n",
              "      <td>0.000000</td>\n",
              "      <td>0.000000</td>\n",
              "      <td>0.000000</td>\n",
              "      <td>0.000000</td>\n",
              "      <td>0.000000</td>\n",
              "      <td>0.000000</td>\n",
              "      <td>0.000000</td>\n",
              "    </tr>\n",
              "    <tr>\n",
              "      <th>75%</th>\n",
              "      <td>53.000000</td>\n",
              "      <td>1.000000</td>\n",
              "      <td>0.000000</td>\n",
              "      <td>1.000000</td>\n",
              "      <td>0.000000</td>\n",
              "      <td>0.000000</td>\n",
              "      <td>0.000000</td>\n",
              "      <td>0.000000</td>\n",
              "      <td>0.000000</td>\n",
              "      <td>0.000000</td>\n",
              "      <td>0.000000</td>\n",
              "      <td>0.000000</td>\n",
              "      <td>0.000000</td>\n",
              "      <td>0.000000</td>\n",
              "      <td>0.000000</td>\n",
              "      <td>0.000000</td>\n",
              "      <td>0.000000</td>\n",
              "      <td>0.000000</td>\n",
              "      <td>0.000000</td>\n",
              "    </tr>\n",
              "    <tr>\n",
              "      <th>max</th>\n",
              "      <td>87.000000</td>\n",
              "      <td>1.000000</td>\n",
              "      <td>1.000000</td>\n",
              "      <td>1.000000</td>\n",
              "      <td>1.000000</td>\n",
              "      <td>1.000000</td>\n",
              "      <td>1.000000</td>\n",
              "      <td>1.000000</td>\n",
              "      <td>1.000000</td>\n",
              "      <td>1.000000</td>\n",
              "      <td>1.000000</td>\n",
              "      <td>1.000000</td>\n",
              "      <td>1.000000</td>\n",
              "      <td>1.000000</td>\n",
              "      <td>1.000000</td>\n",
              "      <td>1.000000</td>\n",
              "      <td>1.000000</td>\n",
              "      <td>1.000000</td>\n",
              "      <td>1.000000</td>\n",
              "    </tr>\n",
              "  </tbody>\n",
              "</table>\n",
              "</div>\n",
              "      <button class=\"colab-df-convert\" onclick=\"convertToInteractive('df-26f8caf6-144f-4cfe-ad98-cc8c6fa0aeed')\"\n",
              "              title=\"Convert this dataframe to an interactive table.\"\n",
              "              style=\"display:none;\">\n",
              "        \n",
              "  <svg xmlns=\"http://www.w3.org/2000/svg\" height=\"24px\"viewBox=\"0 0 24 24\"\n",
              "       width=\"24px\">\n",
              "    <path d=\"M0 0h24v24H0V0z\" fill=\"none\"/>\n",
              "    <path d=\"M18.56 5.44l.94 2.06.94-2.06 2.06-.94-2.06-.94-.94-2.06-.94 2.06-2.06.94zm-11 1L8.5 8.5l.94-2.06 2.06-.94-2.06-.94L8.5 2.5l-.94 2.06-2.06.94zm10 10l.94 2.06.94-2.06 2.06-.94-2.06-.94-.94-2.06-.94 2.06-2.06.94z\"/><path d=\"M17.41 7.96l-1.37-1.37c-.4-.4-.92-.59-1.43-.59-.52 0-1.04.2-1.43.59L10.3 9.45l-7.72 7.72c-.78.78-.78 2.05 0 2.83L4 21.41c.39.39.9.59 1.41.59.51 0 1.02-.2 1.41-.59l7.78-7.78 2.81-2.81c.8-.78.8-2.07 0-2.86zM5.41 20L4 18.59l7.72-7.72 1.47 1.35L5.41 20z\"/>\n",
              "  </svg>\n",
              "      </button>\n",
              "      \n",
              "  <style>\n",
              "    .colab-df-container {\n",
              "      display:flex;\n",
              "      flex-wrap:wrap;\n",
              "      gap: 12px;\n",
              "    }\n",
              "\n",
              "    .colab-df-convert {\n",
              "      background-color: #E8F0FE;\n",
              "      border: none;\n",
              "      border-radius: 50%;\n",
              "      cursor: pointer;\n",
              "      display: none;\n",
              "      fill: #1967D2;\n",
              "      height: 32px;\n",
              "      padding: 0 0 0 0;\n",
              "      width: 32px;\n",
              "    }\n",
              "\n",
              "    .colab-df-convert:hover {\n",
              "      background-color: #E2EBFA;\n",
              "      box-shadow: 0px 1px 2px rgba(60, 64, 67, 0.3), 0px 1px 3px 1px rgba(60, 64, 67, 0.15);\n",
              "      fill: #174EA6;\n",
              "    }\n",
              "\n",
              "    [theme=dark] .colab-df-convert {\n",
              "      background-color: #3B4455;\n",
              "      fill: #D2E3FC;\n",
              "    }\n",
              "\n",
              "    [theme=dark] .colab-df-convert:hover {\n",
              "      background-color: #434B5C;\n",
              "      box-shadow: 0px 1px 3px 1px rgba(0, 0, 0, 0.15);\n",
              "      filter: drop-shadow(0px 1px 2px rgba(0, 0, 0, 0.3));\n",
              "      fill: #FFFFFF;\n",
              "    }\n",
              "  </style>\n",
              "\n",
              "      <script>\n",
              "        const buttonEl =\n",
              "          document.querySelector('#df-26f8caf6-144f-4cfe-ad98-cc8c6fa0aeed button.colab-df-convert');\n",
              "        buttonEl.style.display =\n",
              "          google.colab.kernel.accessAllowed ? 'block' : 'none';\n",
              "\n",
              "        async function convertToInteractive(key) {\n",
              "          const element = document.querySelector('#df-26f8caf6-144f-4cfe-ad98-cc8c6fa0aeed');\n",
              "          const dataTable =\n",
              "            await google.colab.kernel.invokeFunction('convertToInteractive',\n",
              "                                                     [key], {});\n",
              "          if (!dataTable) return;\n",
              "\n",
              "          const docLinkHtml = 'Like what you see? Visit the ' +\n",
              "            '<a target=\"_blank\" href=https://colab.research.google.com/notebooks/data_table.ipynb>data table notebook</a>'\n",
              "            + ' to learn more about interactive tables.';\n",
              "          element.innerHTML = '';\n",
              "          dataTable['output_type'] = 'display_data';\n",
              "          await google.colab.output.renderOutput(dataTable, element);\n",
              "          const docLink = document.createElement('div');\n",
              "          docLink.innerHTML = docLinkHtml;\n",
              "          element.appendChild(docLink);\n",
              "        }\n",
              "      </script>\n",
              "    </div>\n",
              "  </div>\n",
              "  "
            ],
            "text/plain": [
              "               Age       Heroin  Heroin death certificate (DC)      Cocaine  \\\n",
              "count  9200.000000  9202.000000                    9202.000000  9202.000000   \n",
              "mean     43.023370     0.363725                       0.080417     0.344599   \n",
              "std      12.502644     0.481097                       0.271953     0.475263   \n",
              "min      14.000000     0.000000                       0.000000     0.000000   \n",
              "25%      33.000000     0.000000                       0.000000     0.000000   \n",
              "50%      43.000000     0.000000                       0.000000     0.000000   \n",
              "75%      53.000000     1.000000                       0.000000     1.000000   \n",
              "max      87.000000     1.000000                       1.000000     1.000000   \n",
              "\n",
              "       Fentanyl Analogue    Oxycodone  Oxymorphone  Hydrocodone  \\\n",
              "count        9202.000000  9202.000000  9202.000000  9202.000000   \n",
              "mean            0.079113     0.095305     0.016083     0.016844   \n",
              "std             0.269930     0.293652     0.125803     0.128694   \n",
              "min             0.000000     0.000000     0.000000     0.000000   \n",
              "25%             0.000000     0.000000     0.000000     0.000000   \n",
              "50%             0.000000     0.000000     0.000000     0.000000   \n",
              "75%             0.000000     0.000000     0.000000     0.000000   \n",
              "max             1.000000     1.000000     1.000000     1.000000   \n",
              "\n",
              "       Benzodiazepine    Methadone  Meth/Amphetamine       Amphet  \\\n",
              "count     9202.000000  9202.000000       9202.000000  9202.000000   \n",
              "mean         0.243208     0.088459          0.013801     0.030972   \n",
              "std          0.429043     0.283977          0.116672     0.173250   \n",
              "min          0.000000     0.000000          0.000000     0.000000   \n",
              "25%          0.000000     0.000000          0.000000     0.000000   \n",
              "50%          0.000000     0.000000          0.000000     0.000000   \n",
              "75%          0.000000     0.000000          0.000000     0.000000   \n",
              "max          1.000000     1.000000          1.000000     1.000000   \n",
              "\n",
              "            Tramad  Hydromorphone     Xylazine   Gabapentin   Opiate NOS  \\\n",
              "count  9202.000000    9202.000000  9202.000000  9202.000000  9202.000000   \n",
              "mean      0.028037       0.006086     0.047924     0.019778     0.012932   \n",
              "std       0.165089       0.077777     0.213618     0.139245     0.112987   \n",
              "min       0.000000       0.000000     0.000000     0.000000     0.000000   \n",
              "25%       0.000000       0.000000     0.000000     0.000000     0.000000   \n",
              "50%       0.000000       0.000000     0.000000     0.000000     0.000000   \n",
              "75%       0.000000       0.000000     0.000000     0.000000     0.000000   \n",
              "max       1.000000       1.000000     1.000000     1.000000     1.000000   \n",
              "\n",
              "       Heroin/Morph/Codeine  Other Opioid  \n",
              "count           9202.000000   9202.000000  \n",
              "mean               0.212128      0.009780  \n",
              "std                0.408837      0.098417  \n",
              "min                0.000000      0.000000  \n",
              "25%                0.000000      0.000000  \n",
              "50%                0.000000      0.000000  \n",
              "75%                0.000000      0.000000  \n",
              "max                1.000000      1.000000  "
            ]
          },
          "execution_count": 20,
          "metadata": {},
          "output_type": "execute_result"
        }
      ],
      "source": [
        "df.describe()"
      ]
    },
    {
      "cell_type": "markdown",
      "id": "Q7iUNchX_86T",
      "metadata": {
        "id": "Q7iUNchX_86T"
      },
      "source": [
        "We group the number of deaths by GENDER"
      ]
    },
    {
      "cell_type": "code",
      "execution_count": null,
      "id": "d756327b",
      "metadata": {
        "colab": {
          "base_uri": "https://localhost:8080/",
          "height": 112
        },
        "id": "d756327b",
        "outputId": "66ff659b-be16-4976-b85d-53723da0e52a"
      },
      "outputs": [
        {
          "data": {
            "text/html": [
              "\n",
              "  <div id=\"df-607a6f2a-9e00-43f8-854c-5e0ec5e74da6\">\n",
              "    <div class=\"colab-df-container\">\n",
              "      <div>\n",
              "<style scoped>\n",
              "    .dataframe tbody tr th:only-of-type {\n",
              "        vertical-align: middle;\n",
              "    }\n",
              "\n",
              "    .dataframe tbody tr th {\n",
              "        vertical-align: top;\n",
              "    }\n",
              "\n",
              "    .dataframe thead th {\n",
              "        text-align: right;\n",
              "    }\n",
              "</style>\n",
              "<table border=\"1\" class=\"dataframe\">\n",
              "  <thead>\n",
              "    <tr style=\"text-align: right;\">\n",
              "      <th></th>\n",
              "      <th>Sex</th>\n",
              "      <th>Count</th>\n",
              "    </tr>\n",
              "  </thead>\n",
              "  <tbody>\n",
              "    <tr>\n",
              "      <th>0</th>\n",
              "      <td>Female</td>\n",
              "      <td>2368</td>\n",
              "    </tr>\n",
              "    <tr>\n",
              "      <th>1</th>\n",
              "      <td>Male</td>\n",
              "      <td>6826</td>\n",
              "    </tr>\n",
              "  </tbody>\n",
              "</table>\n",
              "</div>\n",
              "      <button class=\"colab-df-convert\" onclick=\"convertToInteractive('df-607a6f2a-9e00-43f8-854c-5e0ec5e74da6')\"\n",
              "              title=\"Convert this dataframe to an interactive table.\"\n",
              "              style=\"display:none;\">\n",
              "        \n",
              "  <svg xmlns=\"http://www.w3.org/2000/svg\" height=\"24px\"viewBox=\"0 0 24 24\"\n",
              "       width=\"24px\">\n",
              "    <path d=\"M0 0h24v24H0V0z\" fill=\"none\"/>\n",
              "    <path d=\"M18.56 5.44l.94 2.06.94-2.06 2.06-.94-2.06-.94-.94-2.06-.94 2.06-2.06.94zm-11 1L8.5 8.5l.94-2.06 2.06-.94-2.06-.94L8.5 2.5l-.94 2.06-2.06.94zm10 10l.94 2.06.94-2.06 2.06-.94-2.06-.94-.94-2.06-.94 2.06-2.06.94z\"/><path d=\"M17.41 7.96l-1.37-1.37c-.4-.4-.92-.59-1.43-.59-.52 0-1.04.2-1.43.59L10.3 9.45l-7.72 7.72c-.78.78-.78 2.05 0 2.83L4 21.41c.39.39.9.59 1.41.59.51 0 1.02-.2 1.41-.59l7.78-7.78 2.81-2.81c.8-.78.8-2.07 0-2.86zM5.41 20L4 18.59l7.72-7.72 1.47 1.35L5.41 20z\"/>\n",
              "  </svg>\n",
              "      </button>\n",
              "      \n",
              "  <style>\n",
              "    .colab-df-container {\n",
              "      display:flex;\n",
              "      flex-wrap:wrap;\n",
              "      gap: 12px;\n",
              "    }\n",
              "\n",
              "    .colab-df-convert {\n",
              "      background-color: #E8F0FE;\n",
              "      border: none;\n",
              "      border-radius: 50%;\n",
              "      cursor: pointer;\n",
              "      display: none;\n",
              "      fill: #1967D2;\n",
              "      height: 32px;\n",
              "      padding: 0 0 0 0;\n",
              "      width: 32px;\n",
              "    }\n",
              "\n",
              "    .colab-df-convert:hover {\n",
              "      background-color: #E2EBFA;\n",
              "      box-shadow: 0px 1px 2px rgba(60, 64, 67, 0.3), 0px 1px 3px 1px rgba(60, 64, 67, 0.15);\n",
              "      fill: #174EA6;\n",
              "    }\n",
              "\n",
              "    [theme=dark] .colab-df-convert {\n",
              "      background-color: #3B4455;\n",
              "      fill: #D2E3FC;\n",
              "    }\n",
              "\n",
              "    [theme=dark] .colab-df-convert:hover {\n",
              "      background-color: #434B5C;\n",
              "      box-shadow: 0px 1px 3px 1px rgba(0, 0, 0, 0.15);\n",
              "      filter: drop-shadow(0px 1px 2px rgba(0, 0, 0, 0.3));\n",
              "      fill: #FFFFFF;\n",
              "    }\n",
              "  </style>\n",
              "\n",
              "      <script>\n",
              "        const buttonEl =\n",
              "          document.querySelector('#df-607a6f2a-9e00-43f8-854c-5e0ec5e74da6 button.colab-df-convert');\n",
              "        buttonEl.style.display =\n",
              "          google.colab.kernel.accessAllowed ? 'block' : 'none';\n",
              "\n",
              "        async function convertToInteractive(key) {\n",
              "          const element = document.querySelector('#df-607a6f2a-9e00-43f8-854c-5e0ec5e74da6');\n",
              "          const dataTable =\n",
              "            await google.colab.kernel.invokeFunction('convertToInteractive',\n",
              "                                                     [key], {});\n",
              "          if (!dataTable) return;\n",
              "\n",
              "          const docLinkHtml = 'Like what you see? Visit the ' +\n",
              "            '<a target=\"_blank\" href=https://colab.research.google.com/notebooks/data_table.ipynb>data table notebook</a>'\n",
              "            + ' to learn more about interactive tables.';\n",
              "          element.innerHTML = '';\n",
              "          dataTable['output_type'] = 'display_data';\n",
              "          await google.colab.output.renderOutput(dataTable, element);\n",
              "          const docLink = document.createElement('div');\n",
              "          docLink.innerHTML = docLinkHtml;\n",
              "          element.appendChild(docLink);\n",
              "        }\n",
              "      </script>\n",
              "    </div>\n",
              "  </div>\n",
              "  "
            ],
            "text/plain": [
              "      Sex  Count\n",
              "0  Female   2368\n",
              "1    Male   6826"
            ]
          },
          "execution_count": 22,
          "metadata": {},
          "output_type": "execute_result"
        }
      ],
      "source": [
        "gender_df = df.groupby('Sex').size().reset_index(name='Count')\n",
        "gender_df"
      ]
    },
    {
      "cell_type": "code",
      "execution_count": null,
      "id": "8cb2cd52",
      "metadata": {
        "colab": {
          "base_uri": "https://localhost:8080/",
          "height": 281
        },
        "id": "8cb2cd52",
        "outputId": "3dd59e54-c4b9-41a5-9a15-0b61d30de5e0"
      },
      "outputs": [
        {
          "data": {
            "image/png": "[encoded data removed]",
            "text/plain": [
              "<Figure size 432x288 with 1 Axes>"
            ]
          },
          "metadata": {
            "needs_background": "light"
          },
          "output_type": "display_data"
        }
      ],
      "source": [
        "plt.bar(gender_df['Sex'],gender_df['Count'],color='green')\n",
        "plt.ylabel('No. of Deaths')\n",
        "plt.title('Frequency of Deaths By Gender')\n",
        "plt.show()"
      ]
    },
    {
      "cell_type": "markdown",
      "id": "hqBJdtUsAIOA",
      "metadata": {
        "id": "hqBJdtUsAIOA"
      },
      "source": [
        "A drug-wise analysis of deaths for males and females. Pretty cool, huh?"
      ]
    },
    {
      "cell_type": "code",
      "execution_count": null,
      "id": "716cc3bc",
      "metadata": {
        "colab": {
          "base_uri": "https://localhost:8080/",
          "height": 347
        },
        "id": "716cc3bc",
        "outputId": "524d6c83-a07f-4c4e-cb8e-00eef23e4a17",
        "scrolled": true
      },
      "outputs": [
        {
          "data": {
            "image/png": "[encoded data removed]",
            "text/plain": [
              "<Figure size 720x360 with 2 Axes>"
            ]
          },
          "metadata": {},
          "output_type": "display_data"
        }
      ],
      "source": [
        "df_female = df.loc[df['Sex']=='Female']\n",
        "df_male = df.loc[df['Sex']=='Male']\n",
        "\n",
        "drug_count_m = {}\n",
        "drug_count_f = {}\n",
        "for c in drugs:\n",
        "    countm = df_male[c].loc[df_male[c]==1].count()\n",
        "    drug_count_m[c]=countm\n",
        "    countf = df_female[c].loc[df_female[c]==1].count()\n",
        "    drug_count_f[c]=countf\n",
        "\n",
        "counts_m = [i for i in drug_count_m.values()]\n",
        "counts_f = [i for i in drug_count_f.values()]\n",
        "drug = [i for i in drug_count_m]\n",
        "\n",
        "fig, axes = plt.subplots(figsize=(10,5), facecolor='#eaeaf2', ncols=2, sharey=True)\n",
        "fig.tight_layout()\n",
        "axes[0].barh(drug, counts_m, align='center', color='#00008b', zorder=10)\n",
        "axes[0].set_title('Drugs freq. for Males', fontsize=18, pad=15, color='#00008b')\n",
        "axes[1].barh(drug, counts_f, align='center', color='#4682b4', zorder=10)\n",
        "axes[1].set_title('Drugs freq. for Females', fontsize=18, pad=15, color='#4682b4')\n",
        "axes[0].invert_xaxis()\n",
        "plt.subplots_adjust(wspace=0, top=0.85, bottom=0.1, left=0.18, right=0.95)\n",
        "\n",
        "plt.show()"
      ]
    },
    {
      "cell_type": "markdown",
      "id": "TZVxxzP7AR_O",
      "metadata": {
        "id": "TZVxxzP7AR_O"
      },
      "source": [
        "We group the number of deaths by AGE"
      ]
    },
    {
      "cell_type": "code",
      "execution_count": null,
      "id": "0c870b84",
      "metadata": {
        "colab": {
          "base_uri": "https://localhost:8080/",
          "height": 423
        },
        "id": "0c870b84",
        "outputId": "15b2f277-690d-49f1-d5ed-e8ba8fa546ec"
      },
      "outputs": [
        {
          "data": {
            "text/html": [
              "\n",
              "  <div id=\"df-b129e0fa-a06a-4458-8723-279ab3589986\">\n",
              "    <div class=\"colab-df-container\">\n",
              "      <div>\n",
              "<style scoped>\n",
              "    .dataframe tbody tr th:only-of-type {\n",
              "        vertical-align: middle;\n",
              "    }\n",
              "\n",
              "    .dataframe tbody tr th {\n",
              "        vertical-align: top;\n",
              "    }\n",
              "\n",
              "    .dataframe thead th {\n",
              "        text-align: right;\n",
              "    }\n",
              "</style>\n",
              "<table border=\"1\" class=\"dataframe\">\n",
              "  <thead>\n",
              "    <tr style=\"text-align: right;\">\n",
              "      <th></th>\n",
              "      <th>Age</th>\n",
              "      <th>Count</th>\n",
              "    </tr>\n",
              "  </thead>\n",
              "  <tbody>\n",
              "    <tr>\n",
              "      <th>0</th>\n",
              "      <td>14.0</td>\n",
              "      <td>2</td>\n",
              "    </tr>\n",
              "    <tr>\n",
              "      <th>1</th>\n",
              "      <td>15.0</td>\n",
              "      <td>2</td>\n",
              "    </tr>\n",
              "    <tr>\n",
              "      <th>2</th>\n",
              "      <td>16.0</td>\n",
              "      <td>3</td>\n",
              "    </tr>\n",
              "    <tr>\n",
              "      <th>3</th>\n",
              "      <td>17.0</td>\n",
              "      <td>13</td>\n",
              "    </tr>\n",
              "    <tr>\n",
              "      <th>4</th>\n",
              "      <td>18.0</td>\n",
              "      <td>18</td>\n",
              "    </tr>\n",
              "    <tr>\n",
              "      <th>...</th>\n",
              "      <td>...</td>\n",
              "      <td>...</td>\n",
              "    </tr>\n",
              "    <tr>\n",
              "      <th>63</th>\n",
              "      <td>78.0</td>\n",
              "      <td>1</td>\n",
              "    </tr>\n",
              "    <tr>\n",
              "      <th>64</th>\n",
              "      <td>80.0</td>\n",
              "      <td>1</td>\n",
              "    </tr>\n",
              "    <tr>\n",
              "      <th>65</th>\n",
              "      <td>81.0</td>\n",
              "      <td>2</td>\n",
              "    </tr>\n",
              "    <tr>\n",
              "      <th>66</th>\n",
              "      <td>84.0</td>\n",
              "      <td>1</td>\n",
              "    </tr>\n",
              "    <tr>\n",
              "      <th>67</th>\n",
              "      <td>87.0</td>\n",
              "      <td>1</td>\n",
              "    </tr>\n",
              "  </tbody>\n",
              "</table>\n",
              "<p>68 rows × 2 columns</p>\n",
              "</div>\n",
              "      <button class=\"colab-df-convert\" onclick=\"convertToInteractive('df-b129e0fa-a06a-4458-8723-279ab3589986')\"\n",
              "              title=\"Convert this dataframe to an interactive table.\"\n",
              "              style=\"display:none;\">\n",
              "        \n",
              "  <svg xmlns=\"http://www.w3.org/2000/svg\" height=\"24px\"viewBox=\"0 0 24 24\"\n",
              "       width=\"24px\">\n",
              "    <path d=\"M0 0h24v24H0V0z\" fill=\"none\"/>\n",
              "    <path d=\"M18.56 5.44l.94 2.06.94-2.06 2.06-.94-2.06-.94-.94-2.06-.94 2.06-2.06.94zm-11 1L8.5 8.5l.94-2.06 2.06-.94-2.06-.94L8.5 2.5l-.94 2.06-2.06.94zm10 10l.94 2.06.94-2.06 2.06-.94-2.06-.94-.94-2.06-.94 2.06-2.06.94z\"/><path d=\"M17.41 7.96l-1.37-1.37c-.4-.4-.92-.59-1.43-.59-.52 0-1.04.2-1.43.59L10.3 9.45l-7.72 7.72c-.78.78-.78 2.05 0 2.83L4 21.41c.39.39.9.59 1.41.59.51 0 1.02-.2 1.41-.59l7.78-7.78 2.81-2.81c.8-.78.8-2.07 0-2.86zM5.41 20L4 18.59l7.72-7.72 1.47 1.35L5.41 20z\"/>\n",
              "  </svg>\n",
              "      </button>\n",
              "      \n",
              "  <style>\n",
              "    .colab-df-container {\n",
              "      display:flex;\n",
              "      flex-wrap:wrap;\n",
              "      gap: 12px;\n",
              "    }\n",
              "\n",
              "    .colab-df-convert {\n",
              "      background-color: #E8F0FE;\n",
              "      border: none;\n",
              "      border-radius: 50%;\n",
              "      cursor: pointer;\n",
              "      display: none;\n",
              "      fill: #1967D2;\n",
              "      height: 32px;\n",
              "      padding: 0 0 0 0;\n",
              "      width: 32px;\n",
              "    }\n",
              "\n",
              "    .colab-df-convert:hover {\n",
              "      background-color: #E2EBFA;\n",
              "      box-shadow: 0px 1px 2px rgba(60, 64, 67, 0.3), 0px 1px 3px 1px rgba(60, 64, 67, 0.15);\n",
              "      fill: #174EA6;\n",
              "    }\n",
              "\n",
              "    [theme=dark] .colab-df-convert {\n",
              "      background-color: #3B4455;\n",
              "      fill: #D2E3FC;\n",
              "    }\n",
              "\n",
              "    [theme=dark] .colab-df-convert:hover {\n",
              "      background-color: #434B5C;\n",
              "      box-shadow: 0px 1px 3px 1px rgba(0, 0, 0, 0.15);\n",
              "      filter: drop-shadow(0px 1px 2px rgba(0, 0, 0, 0.3));\n",
              "      fill: #FFFFFF;\n",
              "    }\n",
              "  </style>\n",
              "\n",
              "      <script>\n",
              "        const buttonEl =\n",
              "          document.querySelector('#df-b129e0fa-a06a-4458-8723-279ab3589986 button.colab-df-convert');\n",
              "        buttonEl.style.display =\n",
              "          google.colab.kernel.accessAllowed ? 'block' : 'none';\n",
              "\n",
              "        async function convertToInteractive(key) {\n",
              "          const element = document.querySelector('#df-b129e0fa-a06a-4458-8723-279ab3589986');\n",
              "          const dataTable =\n",
              "            await google.colab.kernel.invokeFunction('convertToInteractive',\n",
              "                                                     [key], {});\n",
              "          if (!dataTable) return;\n",
              "\n",
              "          const docLinkHtml = 'Like what you see? Visit the ' +\n",
              "            '<a target=\"_blank\" href=https://colab.research.google.com/notebooks/data_table.ipynb>data table notebook</a>'\n",
              "            + ' to learn more about interactive tables.';\n",
              "          element.innerHTML = '';\n",
              "          dataTable['output_type'] = 'display_data';\n",
              "          await google.colab.output.renderOutput(dataTable, element);\n",
              "          const docLink = document.createElement('div');\n",
              "          docLink.innerHTML = docLinkHtml;\n",
              "          element.appendChild(docLink);\n",
              "        }\n",
              "      </script>\n",
              "    </div>\n",
              "  </div>\n",
              "  "
            ],
            "text/plain": [
              "     Age  Count\n",
              "0   14.0      2\n",
              "1   15.0      2\n",
              "2   16.0      3\n",
              "3   17.0     13\n",
              "4   18.0     18\n",
              "..   ...    ...\n",
              "63  78.0      1\n",
              "64  80.0      1\n",
              "65  81.0      2\n",
              "66  84.0      1\n",
              "67  87.0      1\n",
              "\n",
              "[68 rows x 2 columns]"
            ]
          },
          "execution_count": 25,
          "metadata": {},
          "output_type": "execute_result"
        }
      ],
      "source": [
        "age_df = df.groupby('Age').size().reset_index(name='Count')\n",
        "age_df"
      ]
    },
    {
      "cell_type": "code",
      "execution_count": null,
      "id": "8d1fb59f",
      "metadata": {
        "colab": {
          "base_uri": "https://localhost:8080/",
          "height": 281
        },
        "id": "8d1fb59f",
        "outputId": "14705866-8dbf-4f76-ff9e-38cbe8e9795c"
      },
      "outputs": [
        {
          "data": {
            "image/png": "[encoded data removed]",
            "text/plain": [
              "<Figure size 432x288 with 1 Axes>"
            ]
          },
          "metadata": {
            "needs_background": "light"
          },
          "output_type": "display_data"
        }
      ],
      "source": [
        "plt.bar(age_df['Age'],age_df['Count'],color='green')\n",
        "plt.ylabel('No. of Deaths')\n",
        "plt.title('Frequency of Deaths By Age Groups')\n",
        "plt.show()"
      ]
    },
    {
      "cell_type": "markdown",
      "id": "osPRQ42vAVxB",
      "metadata": {
        "id": "osPRQ42vAVxB"
      },
      "source": [
        "We group the number of deaths by PLACE OF DEATH"
      ]
    },
    {
      "cell_type": "code",
      "execution_count": null,
      "id": "4b62aafa",
      "metadata": {
        "colab": {
          "base_uri": "https://localhost:8080/",
          "height": 457
        },
        "id": "4b62aafa",
        "outputId": "78cc3d25-06c9-4513-e20e-f21dfa86f033"
      },
      "outputs": [
        {
          "data": {
            "text/html": [
              "\n",
              "  <div id=\"df-33431260-d4bd-4b9f-b645-c704eb7bec21\">\n",
              "    <div class=\"colab-df-container\">\n",
              "      <div>\n",
              "<style scoped>\n",
              "    .dataframe tbody tr th:only-of-type {\n",
              "        vertical-align: middle;\n",
              "    }\n",
              "\n",
              "    .dataframe tbody tr th {\n",
              "        vertical-align: top;\n",
              "    }\n",
              "\n",
              "    .dataframe thead th {\n",
              "        text-align: right;\n",
              "    }\n",
              "</style>\n",
              "<table border=\"1\" class=\"dataframe\">\n",
              "  <thead>\n",
              "    <tr style=\"text-align: right;\">\n",
              "      <th></th>\n",
              "      <th>Location</th>\n",
              "      <th>Death Count</th>\n",
              "    </tr>\n",
              "  </thead>\n",
              "  <tbody>\n",
              "    <tr>\n",
              "      <th>0</th>\n",
              "      <td>Assisted Living</td>\n",
              "      <td>2</td>\n",
              "    </tr>\n",
              "    <tr>\n",
              "      <th>1</th>\n",
              "      <td>Convalescent Home</td>\n",
              "      <td>3</td>\n",
              "    </tr>\n",
              "    <tr>\n",
              "      <th>2</th>\n",
              "      <td>Decedent's Home</td>\n",
              "      <td>52</td>\n",
              "    </tr>\n",
              "    <tr>\n",
              "      <th>3</th>\n",
              "      <td>Hospice</td>\n",
              "      <td>3</td>\n",
              "    </tr>\n",
              "    <tr>\n",
              "      <th>4</th>\n",
              "      <td>Hospital</td>\n",
              "      <td>2336</td>\n",
              "    </tr>\n",
              "    <tr>\n",
              "      <th>5</th>\n",
              "      <td>Hospital - Dead On Arrival</td>\n",
              "      <td>41</td>\n",
              "    </tr>\n",
              "    <tr>\n",
              "      <th>6</th>\n",
              "      <td>Hospital - ER/Outpatient</td>\n",
              "      <td>215</td>\n",
              "    </tr>\n",
              "    <tr>\n",
              "      <th>7</th>\n",
              "      <td>Hospital - Inpatient</td>\n",
              "      <td>129</td>\n",
              "    </tr>\n",
              "    <tr>\n",
              "      <th>8</th>\n",
              "      <td>Nursing Home</td>\n",
              "      <td>6</td>\n",
              "    </tr>\n",
              "    <tr>\n",
              "      <th>9</th>\n",
              "      <td>Other</td>\n",
              "      <td>1559</td>\n",
              "    </tr>\n",
              "    <tr>\n",
              "      <th>10</th>\n",
              "      <td>Other (Specify)</td>\n",
              "      <td>34</td>\n",
              "    </tr>\n",
              "    <tr>\n",
              "      <th>11</th>\n",
              "      <td>Residence</td>\n",
              "      <td>4799</td>\n",
              "    </tr>\n",
              "    <tr>\n",
              "      <th>12</th>\n",
              "      <td>Shelter</td>\n",
              "      <td>1</td>\n",
              "    </tr>\n",
              "  </tbody>\n",
              "</table>\n",
              "</div>\n",
              "      <button class=\"colab-df-convert\" onclick=\"convertToInteractive('df-33431260-d4bd-4b9f-b645-c704eb7bec21')\"\n",
              "              title=\"Convert this dataframe to an interactive table.\"\n",
              "              style=\"display:none;\">\n",
              "        \n",
              "  <svg xmlns=\"http://www.w3.org/2000/svg\" height=\"24px\"viewBox=\"0 0 24 24\"\n",
              "       width=\"24px\">\n",
              "    <path d=\"M0 0h24v24H0V0z\" fill=\"none\"/>\n",
              "    <path d=\"M18.56 5.44l.94 2.06.94-2.06 2.06-.94-2.06-.94-.94-2.06-.94 2.06-2.06.94zm-11 1L8.5 8.5l.94-2.06 2.06-.94-2.06-.94L8.5 2.5l-.94 2.06-2.06.94zm10 10l.94 2.06.94-2.06 2.06-.94-2.06-.94-.94-2.06-.94 2.06-2.06.94z\"/><path d=\"M17.41 7.96l-1.37-1.37c-.4-.4-.92-.59-1.43-.59-.52 0-1.04.2-1.43.59L10.3 9.45l-7.72 7.72c-.78.78-.78 2.05 0 2.83L4 21.41c.39.39.9.59 1.41.59.51 0 1.02-.2 1.41-.59l7.78-7.78 2.81-2.81c.8-.78.8-2.07 0-2.86zM5.41 20L4 18.59l7.72-7.72 1.47 1.35L5.41 20z\"/>\n",
              "  </svg>\n",
              "      </button>\n",
              "      \n",
              "  <style>\n",
              "    .colab-df-container {\n",
              "      display:flex;\n",
              "      flex-wrap:wrap;\n",
              "      gap: 12px;\n",
              "    }\n",
              "\n",
              "    .colab-df-convert {\n",
              "      background-color: #E8F0FE;\n",
              "      border: none;\n",
              "      border-radius: 50%;\n",
              "      cursor: pointer;\n",
              "      display: none;\n",
              "      fill: #1967D2;\n",
              "      height: 32px;\n",
              "      padding: 0 0 0 0;\n",
              "      width: 32px;\n",
              "    }\n",
              "\n",
              "    .colab-df-convert:hover {\n",
              "      background-color: #E2EBFA;\n",
              "      box-shadow: 0px 1px 2px rgba(60, 64, 67, 0.3), 0px 1px 3px 1px rgba(60, 64, 67, 0.15);\n",
              "      fill: #174EA6;\n",
              "    }\n",
              "\n",
              "    [theme=dark] .colab-df-convert {\n",
              "      background-color: #3B4455;\n",
              "      fill: #D2E3FC;\n",
              "    }\n",
              "\n",
              "    [theme=dark] .colab-df-convert:hover {\n",
              "      background-color: #434B5C;\n",
              "      box-shadow: 0px 1px 3px 1px rgba(0, 0, 0, 0.15);\n",
              "      filter: drop-shadow(0px 1px 2px rgba(0, 0, 0, 0.3));\n",
              "      fill: #FFFFFF;\n",
              "    }\n",
              "  </style>\n",
              "\n",
              "      <script>\n",
              "        const buttonEl =\n",
              "          document.querySelector('#df-33431260-d4bd-4b9f-b645-c704eb7bec21 button.colab-df-convert');\n",
              "        buttonEl.style.display =\n",
              "          google.colab.kernel.accessAllowed ? 'block' : 'none';\n",
              "\n",
              "        async function convertToInteractive(key) {\n",
              "          const element = document.querySelector('#df-33431260-d4bd-4b9f-b645-c704eb7bec21');\n",
              "          const dataTable =\n",
              "            await google.colab.kernel.invokeFunction('convertToInteractive',\n",
              "                                                     [key], {});\n",
              "          if (!dataTable) return;\n",
              "\n",
              "          const docLinkHtml = 'Like what you see? Visit the ' +\n",
              "            '<a target=\"_blank\" href=https://colab.research.google.com/notebooks/data_table.ipynb>data table notebook</a>'\n",
              "            + ' to learn more about interactive tables.';\n",
              "          element.innerHTML = '';\n",
              "          dataTable['output_type'] = 'display_data';\n",
              "          await google.colab.output.renderOutput(dataTable, element);\n",
              "          const docLink = document.createElement('div');\n",
              "          docLink.innerHTML = docLinkHtml;\n",
              "          element.appendChild(docLink);\n",
              "        }\n",
              "      </script>\n",
              "    </div>\n",
              "  </div>\n",
              "  "
            ],
            "text/plain": [
              "                      Location  Death Count\n",
              "0              Assisted Living            2\n",
              "1            Convalescent Home            3\n",
              "2              Decedent's Home           52\n",
              "3                      Hospice            3\n",
              "4                     Hospital         2336\n",
              "5   Hospital - Dead On Arrival           41\n",
              "6     Hospital - ER/Outpatient          215\n",
              "7         Hospital - Inpatient          129\n",
              "8                 Nursing Home            6\n",
              "9                        Other         1559\n",
              "10             Other (Specify)           34\n",
              "11                   Residence         4799\n",
              "12                     Shelter            1"
            ]
          },
          "execution_count": 27,
          "metadata": {},
          "output_type": "execute_result"
        }
      ],
      "source": [
        "loc_df = df.groupby('Location').size().reset_index(name='Death Count')\n",
        "loc_df"
      ]
    },
    {
      "cell_type": "code",
      "execution_count": null,
      "id": "44e6b5d1",
      "metadata": {
        "colab": {
          "base_uri": "https://localhost:8080/",
          "height": 281
        },
        "id": "44e6b5d1",
        "outputId": "17415289-b0b0-44e1-ca46-4e54bb716fa5"
      },
      "outputs": [
        {
          "data": {
            "image/png": "[encoded data removed]",
            "text/plain": [
              "<Figure size 432x288 with 1 Axes>"
            ]
          },
          "metadata": {
            "needs_background": "light"
          },
          "output_type": "display_data"
        }
      ],
      "source": [
        "loc_df = loc_df.sort_values(by=['Death Count'], ascending=True)\n",
        "\n",
        "plt.barh(loc_df['Location'],loc_df['Death Count'],color='blue')\n",
        "plt.ylabel('No. of Deaths')\n",
        "plt.title('Frequency of Deaths By Location')\n",
        "plt.show()"
      ]
    },
    {
      "cell_type": "markdown",
      "id": "gta1q_YBAffY",
      "metadata": {
        "id": "gta1q_YBAffY"
      },
      "source": [
        "Extracting a list of causes of death in the city, and then counting it for every city."
      ]
    },
    {
      "cell_type": "code",
      "execution_count": null,
      "id": "aa346319",
      "metadata": {
        "id": "aa346319"
      },
      "outputs": [],
      "source": [
        "my_list = list(df)"
      ]
    },
    {
      "cell_type": "code",
      "execution_count": null,
      "id": "7faa72f4",
      "metadata": {
        "colab": {
          "base_uri": "https://localhost:8080/"
        },
        "id": "7faa72f4",
        "outputId": "49b91779-e7b5-46dc-be7f-08db33405144"
      },
      "outputs": [
        {
          "data": {
            "text/plain": [
              "['Residence City',\n",
              " 'Heroin',\n",
              " 'Heroin death certificate (DC)',\n",
              " 'Cocaine',\n",
              " 'Fentanyl',\n",
              " 'Fentanyl Analogue',\n",
              " 'Oxycodone',\n",
              " 'Oxymorphone',\n",
              " 'Ethanol',\n",
              " 'Hydrocodone',\n",
              " 'Benzodiazepine',\n",
              " 'Methadone',\n",
              " 'Meth/Amphetamine',\n",
              " 'Amphet',\n",
              " 'Tramad',\n",
              " 'Hydromorphone',\n",
              " 'Morphine (Not Heroin)',\n",
              " 'Xylazine',\n",
              " 'Gabapentin',\n",
              " 'Opiate NOS',\n",
              " 'Heroin/Morph/Codeine',\n",
              " 'Other Opioid',\n",
              " 'Any Opioid']"
            ]
          },
          "execution_count": 30,
          "metadata": {},
          "output_type": "execute_result"
        }
      ],
      "source": [
        "city_drug = [my_list[6]] + my_list[22:44]\n",
        "city_drug"
      ]
    },
    {
      "cell_type": "code",
      "execution_count": null,
      "id": "ce6e0f7a",
      "metadata": {
        "id": "ce6e0f7a"
      },
      "outputs": [],
      "source": [
        "city_drug_df = df.groupby('Residence City').size().reset_index(name='Count')\n",
        "city_drug_df = city_drug_df.sort_values(by=['Count'],ascending=True)"
      ]
    },
    {
      "cell_type": "code",
      "execution_count": null,
      "id": "7c7fcadb",
      "metadata": {
        "colab": {
          "base_uri": "https://localhost:8080/",
          "height": 423
        },
        "id": "7c7fcadb",
        "outputId": "a5c44969-3218-4770-d9ea-f088de310264"
      },
      "outputs": [
        {
          "data": {
            "text/html": [
              "\n",
              "  <div id=\"df-5688fc77-bacd-4dc1-a7a3-742d63bd0858\">\n",
              "    <div class=\"colab-df-container\">\n",
              "      <div>\n",
              "<style scoped>\n",
              "    .dataframe tbody tr th:only-of-type {\n",
              "        vertical-align: middle;\n",
              "    }\n",
              "\n",
              "    .dataframe tbody tr th {\n",
              "        vertical-align: top;\n",
              "    }\n",
              "\n",
              "    .dataframe thead th {\n",
              "        text-align: right;\n",
              "    }\n",
              "</style>\n",
              "<table border=\"1\" class=\"dataframe\">\n",
              "  <thead>\n",
              "    <tr style=\"text-align: right;\">\n",
              "      <th></th>\n",
              "      <th>Residence City</th>\n",
              "      <th>Count</th>\n",
              "    </tr>\n",
              "  </thead>\n",
              "  <tbody>\n",
              "    <tr>\n",
              "      <th>0</th>\n",
              "      <td>AGAWAM</td>\n",
              "      <td>1</td>\n",
              "    </tr>\n",
              "    <tr>\n",
              "      <th>261</th>\n",
              "      <td>NISKAYUNA</td>\n",
              "      <td>1</td>\n",
              "    </tr>\n",
              "    <tr>\n",
              "      <th>258</th>\n",
              "      <td>NEWPORT</td>\n",
              "      <td>1</td>\n",
              "    </tr>\n",
              "    <tr>\n",
              "      <th>256</th>\n",
              "      <td>NEWFIELD</td>\n",
              "      <td>1</td>\n",
              "    </tr>\n",
              "    <tr>\n",
              "      <th>253</th>\n",
              "      <td>NEW ROCHELLE</td>\n",
              "      <td>1</td>\n",
              "    </tr>\n",
              "    <tr>\n",
              "      <th>...</th>\n",
              "      <td>...</td>\n",
              "      <td>...</td>\n",
              "    </tr>\n",
              "    <tr>\n",
              "      <th>244</th>\n",
              "      <td>NEW BRITAIN</td>\n",
              "      <td>320</td>\n",
              "    </tr>\n",
              "    <tr>\n",
              "      <th>40</th>\n",
              "      <td>BRIDGEPORT</td>\n",
              "      <td>457</td>\n",
              "    </tr>\n",
              "    <tr>\n",
              "      <th>249</th>\n",
              "      <td>NEW HAVEN</td>\n",
              "      <td>493</td>\n",
              "    </tr>\n",
              "    <tr>\n",
              "      <th>432</th>\n",
              "      <td>WATERBURY</td>\n",
              "      <td>541</td>\n",
              "    </tr>\n",
              "    <tr>\n",
              "      <th>158</th>\n",
              "      <td>HARTFORD</td>\n",
              "      <td>596</td>\n",
              "    </tr>\n",
              "  </tbody>\n",
              "</table>\n",
              "<p>485 rows × 2 columns</p>\n",
              "</div>\n",
              "      <button class=\"colab-df-convert\" onclick=\"convertToInteractive('df-5688fc77-bacd-4dc1-a7a3-742d63bd0858')\"\n",
              "              title=\"Convert this dataframe to an interactive table.\"\n",
              "              style=\"display:none;\">\n",
              "        \n",
              "  <svg xmlns=\"http://www.w3.org/2000/svg\" height=\"24px\"viewBox=\"0 0 24 24\"\n",
              "       width=\"24px\">\n",
              "    <path d=\"M0 0h24v24H0V0z\" fill=\"none\"/>\n",
              "    <path d=\"M18.56 5.44l.94 2.06.94-2.06 2.06-.94-2.06-.94-.94-2.06-.94 2.06-2.06.94zm-11 1L8.5 8.5l.94-2.06 2.06-.94-2.06-.94L8.5 2.5l-.94 2.06-2.06.94zm10 10l.94 2.06.94-2.06 2.06-.94-2.06-.94-.94-2.06-.94 2.06-2.06.94z\"/><path d=\"M17.41 7.96l-1.37-1.37c-.4-.4-.92-.59-1.43-.59-.52 0-1.04.2-1.43.59L10.3 9.45l-7.72 7.72c-.78.78-.78 2.05 0 2.83L4 21.41c.39.39.9.59 1.41.59.51 0 1.02-.2 1.41-.59l7.78-7.78 2.81-2.81c.8-.78.8-2.07 0-2.86zM5.41 20L4 18.59l7.72-7.72 1.47 1.35L5.41 20z\"/>\n",
              "  </svg>\n",
              "      </button>\n",
              "      \n",
              "  <style>\n",
              "    .colab-df-container {\n",
              "      display:flex;\n",
              "      flex-wrap:wrap;\n",
              "      gap: 12px;\n",
              "    }\n",
              "\n",
              "    .colab-df-convert {\n",
              "      background-color: #E8F0FE;\n",
              "      border: none;\n",
              "      border-radius: 50%;\n",
              "      cursor: pointer;\n",
              "      display: none;\n",
              "      fill: #1967D2;\n",
              "      height: 32px;\n",
              "      padding: 0 0 0 0;\n",
              "      width: 32px;\n",
              "    }\n",
              "\n",
              "    .colab-df-convert:hover {\n",
              "      background-color: #E2EBFA;\n",
              "      box-shadow: 0px 1px 2px rgba(60, 64, 67, 0.3), 0px 1px 3px 1px rgba(60, 64, 67, 0.15);\n",
              "      fill: #174EA6;\n",
              "    }\n",
              "\n",
              "    [theme=dark] .colab-df-convert {\n",
              "      background-color: #3B4455;\n",
              "      fill: #D2E3FC;\n",
              "    }\n",
              "\n",
              "    [theme=dark] .colab-df-convert:hover {\n",
              "      background-color: #434B5C;\n",
              "      box-shadow: 0px 1px 3px 1px rgba(0, 0, 0, 0.15);\n",
              "      filter: drop-shadow(0px 1px 2px rgba(0, 0, 0, 0.3));\n",
              "      fill: #FFFFFF;\n",
              "    }\n",
              "  </style>\n",
              "\n",
              "      <script>\n",
              "        const buttonEl =\n",
              "          document.querySelector('#df-5688fc77-bacd-4dc1-a7a3-742d63bd0858 button.colab-df-convert');\n",
              "        buttonEl.style.display =\n",
              "          google.colab.kernel.accessAllowed ? 'block' : 'none';\n",
              "\n",
              "        async function convertToInteractive(key) {\n",
              "          const element = document.querySelector('#df-5688fc77-bacd-4dc1-a7a3-742d63bd0858');\n",
              "          const dataTable =\n",
              "            await google.colab.kernel.invokeFunction('convertToInteractive',\n",
              "                                                     [key], {});\n",
              "          if (!dataTable) return;\n",
              "\n",
              "          const docLinkHtml = 'Like what you see? Visit the ' +\n",
              "            '<a target=\"_blank\" href=https://colab.research.google.com/notebooks/data_table.ipynb>data table notebook</a>'\n",
              "            + ' to learn more about interactive tables.';\n",
              "          element.innerHTML = '';\n",
              "          dataTable['output_type'] = 'display_data';\n",
              "          await google.colab.output.renderOutput(dataTable, element);\n",
              "          const docLink = document.createElement('div');\n",
              "          docLink.innerHTML = docLinkHtml;\n",
              "          element.appendChild(docLink);\n",
              "        }\n",
              "      </script>\n",
              "    </div>\n",
              "  </div>\n",
              "  "
            ],
            "text/plain": [
              "    Residence City  Count\n",
              "0           AGAWAM      1\n",
              "261      NISKAYUNA      1\n",
              "258        NEWPORT      1\n",
              "256       NEWFIELD      1\n",
              "253   NEW ROCHELLE      1\n",
              "..             ...    ...\n",
              "244    NEW BRITAIN    320\n",
              "40      BRIDGEPORT    457\n",
              "249      NEW HAVEN    493\n",
              "432      WATERBURY    541\n",
              "158       HARTFORD    596\n",
              "\n",
              "[485 rows x 2 columns]"
            ]
          },
          "execution_count": 32,
          "metadata": {},
          "output_type": "execute_result"
        }
      ],
      "source": [
        "city_drug_df"
      ]
    },
    {
      "cell_type": "markdown",
      "id": "XyBY956kArfD",
      "metadata": {
        "id": "XyBY956kArfD"
      },
      "source": [
        "We now check frequency of deaths by City"
      ]
    },
    {
      "cell_type": "code",
      "execution_count": null,
      "id": "d18c316c",
      "metadata": {
        "colab": {
          "base_uri": "https://localhost:8080/",
          "height": 281
        },
        "id": "d18c316c",
        "outputId": "067cbad3-4167-4bef-a59a-aae1c68fa046"
      },
      "outputs": [
        {
          "data": {
            "image/png": "[encoded data removed]",
            "text/plain": [
              "<Figure size 432x288 with 1 Axes>"
            ]
          },
          "metadata": {
            "needs_background": "light"
          },
          "output_type": "display_data"
        }
      ],
      "source": [
        "plt.barh(city_drug_df['Residence City'].iloc[465:485],city_drug_df['Count'].iloc[465:485],color='purple')\n",
        "plt.ylabel('No. of Deaths')\n",
        "plt.title('Frequency of Deaths By City')\n",
        "plt.show()"
      ]
    },
    {
      "cell_type": "markdown",
      "id": "KTCUg-myAvvr",
      "metadata": {
        "id": "KTCUg-myAvvr"
      },
      "source": [
        "Through the sklearn encoder, we convert all our values into numeric or ordinal values"
      ]
    },
    {
      "cell_type": "code",
      "execution_count": null,
      "id": "d048f06c",
      "metadata": {
        "colab": {
          "base_uri": "https://localhost:8080/",
          "height": 317
        },
        "id": "d048f06c",
        "outputId": "308420c9-f65d-4d13-dc13-8e07ace37f05"
      },
      "outputs": [
        {
          "data": {
            "text/html": [
              "\n",
              "  <div id=\"df-e58e8887-d3f8-4ecb-8c18-42550352f1a3\">\n",
              "    <div class=\"colab-df-container\">\n",
              "      <div>\n",
              "<style scoped>\n",
              "    .dataframe tbody tr th:only-of-type {\n",
              "        vertical-align: middle;\n",
              "    }\n",
              "\n",
              "    .dataframe tbody tr th {\n",
              "        vertical-align: top;\n",
              "    }\n",
              "\n",
              "    .dataframe thead th {\n",
              "        text-align: right;\n",
              "    }\n",
              "</style>\n",
              "<table border=\"1\" class=\"dataframe\">\n",
              "  <thead>\n",
              "    <tr style=\"text-align: right;\">\n",
              "      <th></th>\n",
              "      <th>Date</th>\n",
              "      <th>Date Type</th>\n",
              "      <th>Age</th>\n",
              "      <th>Sex</th>\n",
              "      <th>Race</th>\n",
              "      <th>Ethnicity</th>\n",
              "      <th>Residence City</th>\n",
              "      <th>Residence County</th>\n",
              "      <th>Residence State</th>\n",
              "      <th>Injury City</th>\n",
              "      <th>...</th>\n",
              "      <th>Xylazine</th>\n",
              "      <th>Gabapentin</th>\n",
              "      <th>Opiate NOS</th>\n",
              "      <th>Heroin/Morph/Codeine</th>\n",
              "      <th>Other Opioid</th>\n",
              "      <th>Any Opioid</th>\n",
              "      <th>Other</th>\n",
              "      <th>ResidenceCityGeo</th>\n",
              "      <th>InjuryCityGeo</th>\n",
              "      <th>DeathCityGeo</th>\n",
              "    </tr>\n",
              "  </thead>\n",
              "  <tbody>\n",
              "    <tr>\n",
              "      <th>0</th>\n",
              "      <td>90</td>\n",
              "      <td>0</td>\n",
              "      <td>23</td>\n",
              "      <td>1</td>\n",
              "      <td>3</td>\n",
              "      <td>5</td>\n",
              "      <td>381</td>\n",
              "      <td>38</td>\n",
              "      <td>32</td>\n",
              "      <td>221</td>\n",
              "      <td>...</td>\n",
              "      <td>0</td>\n",
              "      <td>0</td>\n",
              "      <td>0</td>\n",
              "      <td>0</td>\n",
              "      <td>0</td>\n",
              "      <td>0</td>\n",
              "      <td>145</td>\n",
              "      <td>4</td>\n",
              "      <td>5</td>\n",
              "      <td>100</td>\n",
              "    </tr>\n",
              "    <tr>\n",
              "      <th>1</th>\n",
              "      <td>109</td>\n",
              "      <td>0</td>\n",
              "      <td>23</td>\n",
              "      <td>1</td>\n",
              "      <td>12</td>\n",
              "      <td>5</td>\n",
              "      <td>278</td>\n",
              "      <td>81</td>\n",
              "      <td>32</td>\n",
              "      <td>160</td>\n",
              "      <td>...</td>\n",
              "      <td>0</td>\n",
              "      <td>0</td>\n",
              "      <td>0</td>\n",
              "      <td>0</td>\n",
              "      <td>0</td>\n",
              "      <td>0</td>\n",
              "      <td>145</td>\n",
              "      <td>108</td>\n",
              "      <td>89</td>\n",
              "      <td>86</td>\n",
              "    </tr>\n",
              "    <tr>\n",
              "      <th>2</th>\n",
              "      <td>563</td>\n",
              "      <td>0</td>\n",
              "      <td>14</td>\n",
              "      <td>1</td>\n",
              "      <td>12</td>\n",
              "      <td>5</td>\n",
              "      <td>163</td>\n",
              "      <td>135</td>\n",
              "      <td>32</td>\n",
              "      <td>100</td>\n",
              "      <td>...</td>\n",
              "      <td>0</td>\n",
              "      <td>0</td>\n",
              "      <td>0</td>\n",
              "      <td>0</td>\n",
              "      <td>0</td>\n",
              "      <td>0</td>\n",
              "      <td>145</td>\n",
              "      <td>161</td>\n",
              "      <td>130</td>\n",
              "      <td>119</td>\n",
              "    </tr>\n",
              "    <tr>\n",
              "      <th>3</th>\n",
              "      <td>789</td>\n",
              "      <td>0</td>\n",
              "      <td>12</td>\n",
              "      <td>0</td>\n",
              "      <td>12</td>\n",
              "      <td>5</td>\n",
              "      <td>15</td>\n",
              "      <td>135</td>\n",
              "      <td>32</td>\n",
              "      <td>286</td>\n",
              "      <td>...</td>\n",
              "      <td>0</td>\n",
              "      <td>0</td>\n",
              "      <td>0</td>\n",
              "      <td>0</td>\n",
              "      <td>0</td>\n",
              "      <td>0</td>\n",
              "      <td>145</td>\n",
              "      <td>148</td>\n",
              "      <td>104</td>\n",
              "      <td>115</td>\n",
              "    </tr>\n",
              "    <tr>\n",
              "      <th>4</th>\n",
              "      <td>1100</td>\n",
              "      <td>0</td>\n",
              "      <td>27</td>\n",
              "      <td>1</td>\n",
              "      <td>12</td>\n",
              "      <td>5</td>\n",
              "      <td>359</td>\n",
              "      <td>38</td>\n",
              "      <td>3</td>\n",
              "      <td>206</td>\n",
              "      <td>...</td>\n",
              "      <td>0</td>\n",
              "      <td>0</td>\n",
              "      <td>0</td>\n",
              "      <td>0</td>\n",
              "      <td>0</td>\n",
              "      <td>1</td>\n",
              "      <td>145</td>\n",
              "      <td>43</td>\n",
              "      <td>35</td>\n",
              "      <td>11</td>\n",
              "    </tr>\n",
              "  </tbody>\n",
              "</table>\n",
              "<p>5 rows × 48 columns</p>\n",
              "</div>\n",
              "      <button class=\"colab-df-convert\" onclick=\"convertToInteractive('df-e58e8887-d3f8-4ecb-8c18-42550352f1a3')\"\n",
              "              title=\"Convert this dataframe to an interactive table.\"\n",
              "              style=\"display:none;\">\n",
              "        \n",
              "  <svg xmlns=\"http://www.w3.org/2000/svg\" height=\"24px\"viewBox=\"0 0 24 24\"\n",
              "       width=\"24px\">\n",
              "    <path d=\"M0 0h24v24H0V0z\" fill=\"none\"/>\n",
              "    <path d=\"M18.56 5.44l.94 2.06.94-2.06 2.06-.94-2.06-.94-.94-2.06-.94 2.06-2.06.94zm-11 1L8.5 8.5l.94-2.06 2.06-.94-2.06-.94L8.5 2.5l-.94 2.06-2.06.94zm10 10l.94 2.06.94-2.06 2.06-.94-2.06-.94-.94-2.06-.94 2.06-2.06.94z\"/><path d=\"M17.41 7.96l-1.37-1.37c-.4-.4-.92-.59-1.43-.59-.52 0-1.04.2-1.43.59L10.3 9.45l-7.72 7.72c-.78.78-.78 2.05 0 2.83L4 21.41c.39.39.9.59 1.41.59.51 0 1.02-.2 1.41-.59l7.78-7.78 2.81-2.81c.8-.78.8-2.07 0-2.86zM5.41 20L4 18.59l7.72-7.72 1.47 1.35L5.41 20z\"/>\n",
              "  </svg>\n",
              "      </button>\n",
              "      \n",
              "  <style>\n",
              "    .colab-df-container {\n",
              "      display:flex;\n",
              "      flex-wrap:wrap;\n",
              "      gap: 12px;\n",
              "    }\n",
              "\n",
              "    .colab-df-convert {\n",
              "      background-color: #E8F0FE;\n",
              "      border: none;\n",
              "      border-radius: 50%;\n",
              "      cursor: pointer;\n",
              "      display: none;\n",
              "      fill: #1967D2;\n",
              "      height: 32px;\n",
              "      padding: 0 0 0 0;\n",
              "      width: 32px;\n",
              "    }\n",
              "\n",
              "    .colab-df-convert:hover {\n",
              "      background-color: #E2EBFA;\n",
              "      box-shadow: 0px 1px 2px rgba(60, 64, 67, 0.3), 0px 1px 3px 1px rgba(60, 64, 67, 0.15);\n",
              "      fill: #174EA6;\n",
              "    }\n",
              "\n",
              "    [theme=dark] .colab-df-convert {\n",
              "      background-color: #3B4455;\n",
              "      fill: #D2E3FC;\n",
              "    }\n",
              "\n",
              "    [theme=dark] .colab-df-convert:hover {\n",
              "      background-color: #434B5C;\n",
              "      box-shadow: 0px 1px 3px 1px rgba(0, 0, 0, 0.15);\n",
              "      filter: drop-shadow(0px 1px 2px rgba(0, 0, 0, 0.3));\n",
              "      fill: #FFFFFF;\n",
              "    }\n",
              "  </style>\n",
              "\n",
              "      <script>\n",
              "        const buttonEl =\n",
              "          document.querySelector('#df-e58e8887-d3f8-4ecb-8c18-42550352f1a3 button.colab-df-convert');\n",
              "        buttonEl.style.display =\n",
              "          google.colab.kernel.accessAllowed ? 'block' : 'none';\n",
              "\n",
              "        async function convertToInteractive(key) {\n",
              "          const element = document.querySelector('#df-e58e8887-d3f8-4ecb-8c18-42550352f1a3');\n",
              "          const dataTable =\n",
              "            await google.colab.kernel.invokeFunction('convertToInteractive',\n",
              "                                                     [key], {});\n",
              "          if (!dataTable) return;\n",
              "\n",
              "          const docLinkHtml = 'Like what you see? Visit the ' +\n",
              "            '<a target=\"_blank\" href=https://colab.research.google.com/notebooks/data_table.ipynb>data table notebook</a>'\n",
              "            + ' to learn more about interactive tables.';\n",
              "          element.innerHTML = '';\n",
              "          dataTable['output_type'] = 'display_data';\n",
              "          await google.colab.output.renderOutput(dataTable, element);\n",
              "          const docLink = document.createElement('div');\n",
              "          docLink.innerHTML = docLinkHtml;\n",
              "          element.appendChild(docLink);\n",
              "        }\n",
              "      </script>\n",
              "    </div>\n",
              "  </div>\n",
              "  "
            ],
            "text/plain": [
              "   Date  Date Type  Age  Sex  Race  Ethnicity  Residence City  \\\n",
              "0    90          0   23    1     3          5             381   \n",
              "1   109          0   23    1    12          5             278   \n",
              "2   563          0   14    1    12          5             163   \n",
              "3   789          0   12    0    12          5              15   \n",
              "4  1100          0   27    1    12          5             359   \n",
              "\n",
              "   Residence County  Residence State  Injury City  ...  Xylazine  Gabapentin  \\\n",
              "0                38               32          221  ...         0           0   \n",
              "1                81               32          160  ...         0           0   \n",
              "2               135               32          100  ...         0           0   \n",
              "3               135               32          286  ...         0           0   \n",
              "4                38                3          206  ...         0           0   \n",
              "\n",
              "   Opiate NOS  Heroin/Morph/Codeine  Other Opioid  Any Opioid  Other  \\\n",
              "0           0                     0             0           0    145   \n",
              "1           0                     0             0           0    145   \n",
              "2           0                     0             0           0    145   \n",
              "3           0                     0             0           0    145   \n",
              "4           0                     0             0           1    145   \n",
              "\n",
              "   ResidenceCityGeo  InjuryCityGeo  DeathCityGeo  \n",
              "0                 4              5           100  \n",
              "1               108             89            86  \n",
              "2               161            130           119  \n",
              "3               148            104           115  \n",
              "4                43             35            11  \n",
              "\n",
              "[5 rows x 48 columns]"
            ]
          },
          "execution_count": 34,
          "metadata": {},
          "output_type": "execute_result"
        }
      ],
      "source": [
        "from sklearn.preprocessing import LabelEncoder\n",
        "\n",
        "df_new = df.copy()\n",
        "labels = LabelEncoder()\n",
        "col_list = list(df)\n",
        "for col in col_list:\n",
        "    try:\n",
        "        df_new[col] = labels.fit_transform(df_new[col])\n",
        "    except TypeError:\n",
        "        df_new[col]=df_new[col].astype('string')\n",
        "\n",
        "df_new.head()"
      ]
    },
    {
      "cell_type": "markdown",
      "id": "GUIXdNqLA136",
      "metadata": {
        "id": "GUIXdNqLA136"
      },
      "source": [
        "Correlation between columns is found and plotted"
      ]
    },
    {
      "cell_type": "code",
      "execution_count": null,
      "id": "5490e5c5",
      "metadata": {
        "id": "5490e5c5"
      },
      "outputs": [],
      "source": [
        "correlation = df_new.corr()\n"
      ]
    },
    {
      "cell_type": "code",
      "execution_count": null,
      "id": "ec2d11b4",
      "metadata": {
        "colab": {
          "base_uri": "https://localhost:8080/",
          "height": 374
        },
        "id": "ec2d11b4",
        "outputId": "dd250c3c-43d9-4a1b-a4c6-13d2d53bef41"
      },
      "outputs": [
        {
          "data": {
            "text/plain": [
              "<Axes: >"
            ]
          },
          "execution_count": 36,
          "metadata": {},
          "output_type": "execute_result"
        },
        {
          "data": {
            "image/png": "[encoded data removed]",
            "text/plain": [
              "<Figure size 432x288 with 2 Axes>"
            ]
          },
          "metadata": {},
          "output_type": "display_data"
        }
      ],
      "source": [
        "sns.set(font_scale=0.6)\n",
        "sns.heatmap(correlation, xticklabels=correlation.columns, yticklabels=correlation.columns)"
      ]
    },
    {
      "cell_type": "markdown",
      "id": "H_k5RKVuA7dw",
      "metadata": {
        "id": "H_k5RKVuA7dw"
      },
      "source": [
        "We perform further groupings and exploratory data analysis on deaths in each county and by race and ethnicity."
      ]
    },
    {
      "cell_type": "code",
      "execution_count": null,
      "id": "dcf768b9",
      "metadata": {
        "colab": {
          "base_uri": "https://localhost:8080/",
          "height": 293
        },
        "id": "dcf768b9",
        "outputId": "4bbcc5d8-4b2c-4113-dda7-872714dd91b4"
      },
      "outputs": [
        {
          "data": {
            "text/plain": [
              "<Axes: xlabel='Death County'>"
            ]
          },
          "execution_count": 46,
          "metadata": {},
          "output_type": "execute_result"
        },
        {
          "data": {
            "image/png": "[encoded data removed]",
            "text/plain": [
              "<Figure size 432x288 with 1 Axes>"
            ]
          },
          "metadata": {},
          "output_type": "display_data"
        }
      ],
      "source": [
        "value_counts = df_new.groupby('Death County').size().reset_index(name='Counts')\n",
        "value_counts\n",
        "value_counts.plot.bar(x = 'Death County', y = 'Counts')"
      ]
    },
    {
      "cell_type": "code",
      "execution_count": null,
      "id": "d3ab84d9",
      "metadata": {
        "colab": {
          "base_uri": "https://localhost:8080/",
          "height": 289
        },
        "id": "d3ab84d9",
        "outputId": "77cc44b2-a420-4efe-8713-e9c728f763ac"
      },
      "outputs": [
        {
          "data": {
            "text/plain": [
              "<Axes: xlabel='Sex'>"
            ]
          },
          "execution_count": 47,
          "metadata": {},
          "output_type": "execute_result"
        },
        {
          "data": {
            "image/png": "[encoded data removed]",
            "text/plain": [
              "<Figure size 432x288 with 1 Axes>"
            ]
          },
          "metadata": {},
          "output_type": "display_data"
        }
      ],
      "source": [
        "value_counts = df_new.groupby('Sex').size().reset_index(name='Counts')\n",
        "value_counts\n",
        "value_counts.plot.bar(x = 'Sex', y = 'Counts')"
      ]
    },
    {
      "cell_type": "code",
      "execution_count": null,
      "id": "67582cf6",
      "metadata": {
        "colab": {
          "base_uri": "https://localhost:8080/",
          "height": 289
        },
        "id": "67582cf6",
        "outputId": "1e69d2b2-508f-42f0-a0be-ed81c3f55103"
      },
      "outputs": [
        {
          "data": {
            "text/plain": [
              "<Axes: xlabel='Ethnicity'>"
            ]
          },
          "execution_count": 48,
          "metadata": {},
          "output_type": "execute_result"
        },
        {
          "data": {
            "image/png": "[encoded data removed]",
            "text/plain": [
              "<Figure size 432x288 with 1 Axes>"
            ]
          },
          "metadata": {},
          "output_type": "display_data"
        }
      ],
      "source": [
        "value_counts = df_new.groupby('Ethnicity').size().reset_index(name='Counts')\n",
        "value_counts\n",
        "value_counts.plot.bar(x = 'Ethnicity', y = 'Counts')"
      ]
    },
    {
      "cell_type": "code",
      "execution_count": null,
      "id": "a0f99287",
      "metadata": {
        "colab": {
          "base_uri": "https://localhost:8080/",
          "height": 293
        },
        "id": "a0f99287",
        "outputId": "e1989aed-4900-4afa-9d69-5312ea4064ed"
      },
      "outputs": [
        {
          "data": {
            "text/plain": [
              "<Axes: xlabel='Race'>"
            ]
          },
          "execution_count": 49,
          "metadata": {},
          "output_type": "execute_result"
        },
        {
          "data": {
            "image/png": "[encoded data removed]",
            "text/plain": [
              "<Figure size 432x288 with 1 Axes>"
            ]
          },
          "metadata": {},
          "output_type": "display_data"
        }
      ],
      "source": [
        "value_counts = df_new.groupby('Race').size().reset_index(name='Counts')\n",
        "value_counts\n",
        "value_counts.plot.bar(x = 'Race', y = 'Counts')"
      ]
    },
    {
      "cell_type": "markdown",
      "id": "o3uOoNleBYNi",
      "metadata": {
        "id": "o3uOoNleBYNi"
      },
      "source": [
        "We now print data points on an Interactive Plotly Map"
      ]
    },
    {
      "cell_type": "code",
      "execution_count": null,
      "id": "62227307",
      "metadata": {
        "colab": {
          "base_uri": "https://localhost:8080/"
        },
        "id": "62227307",
        "outputId": "81dcd388-e4fe-4ba0-cc52-b037d36426b2"
      },
      "outputs": [
        {
          "name": "stdout",
          "output_type": "stream",
          "text": [
            "<class 'pandas.core.series.Series'>\n"
          ]
        }
      ],
      "source": [
        "import re\n",
        "df['DeathCityGeo'] = df['DeathCityGeo'].fillna(df['DeathCityGeo'].mode()[0])\n",
        "print(type(df[\"DeathCityGeo\"]))\n",
        "res = []\n",
        "for x in df[\"DeathCityGeo\"].iteritems():\n",
        "  res.append(re.findall(r'\\(.*?\\)', x[1]))\n",
        "  # print(type(x[1]))"
      ]
    },
    {
      "cell_type": "code",
      "execution_count": null,
      "id": "fdFJ1XjirnY7",
      "metadata": {
        "id": "fdFJ1XjirnY7"
      },
      "outputs": [],
      "source": [
        "# print(res)\n",
        "latlon = []\n",
        "\n",
        "for text in res:\n",
        "  tmp1, tmp2 = text[0].strip('()').split(',')\n",
        "  latlon.append([float(tmp1),float(tmp2)])"
      ]
    },
    {
      "cell_type": "code",
      "execution_count": null,
      "id": "kTGSfXgSrtL4",
      "metadata": {
        "colab": {
          "base_uri": "https://localhost:8080/",
          "height": 334
        },
        "id": "kTGSfXgSrtL4",
        "outputId": "37af524a-070b-4f2b-d543-3f68626a5137"
      },
      "outputs": [
        {
          "name": "stdout",
          "output_type": "stream",
          "text": [
            "(229, 3)\n"
          ]
        },
        {
          "data": {
            "text/html": [
              "<html>\n",
              "<head><meta charset=\"utf-8\" /></head>\n",
              "<body>\n",
              "    <div>            <script src=\"https://cdnjs.cloudflare.com/ajax/libs/mathjax/2.7.5/MathJax.js?config=TeX-AMS-MML_SVG\"></script><script type=\"text/javascript\">if (window.MathJax && window.MathJax.Hub && window.MathJax.Hub.Config) {window.MathJax.Hub.Config({SVG: {font: \"STIX-Web\"}});}</script>                <script type=\"text/javascript\">window.PlotlyConfig = {MathJaxConfig: 'local'};</script>\n",
              "        <script src=\"https://cdn.plot.ly/plotly-2.18.2.min.js\"></script>                <div id=\"89b88349-961b-4c15-a660-bf30617d8d20\" class=\"plotly-graph-div\" style=\"height:300px; width:100%;\"></div>            <script type=\"text/javascript\">                                    window.PLOTLYENV=window.PLOTLYENV || {};                                    if (document.getElementById(\"89b88349-961b-4c15-a660-bf30617d8d20\")) {                    Plotly.newPlot(                        \"89b88349-961b-4c15-a660-bf30617d8d20\",                        [{\"customdata\":[[1084],[766],[728],[625],[360],[251],[246],[244],[233],[232],[193],[187],[165],[142],[136],[135],[130],[125],[117],[109],[87],[87],[86],[85],[83],[76],[67],[64],[62],[62],[60],[57],[55],[53],[46],[45],[45],[44],[41],[41],[40],[37],[36],[36],[35],[34],[34],[33],[33],[31],[29],[28],[27],[25],[25],[24],[24],[23],[22],[22],[21],[21],[21],[19],[19],[19],[19],[19],[17],[17],[17],[16],[16],[16],[16],[15],[15],[14],[14],[14],[14],[13],[13],[12],[12],[12],[12],[12],[12],[12],[11],[11],[11],[11],[11],[11],[11],[10],[10],[10],[10],[10],[10],[10],[10],[10],[9],[9],[9],[9],[9],[9],[9],[9],[9],[9],[8],[8],[8],[8],[8],[8],[8],[8],[8],[8],[8],[7],[7],[7],[7],[7],[7],[7],[7],[6],[6],[6],[6],[6],[6],[6],[6],[6],[6],[5],[5],[5],[5],[5],[5],[5],[5],[5],[5],[5],[5],[5],[5],[5],[4],[4],[4],[4],[4],[4],[4],[4],[4],[4],[4],[4],[4],[4],[4],[3],[3],[3],[3],[3],[3],[3],[3],[3],[2],[2],[2],[2],[2],[2],[2],[2],[2],[2],[2],[2],[2],[1],[1],[1],[1],[1],[1],[1],[1],[1],[1],[1],[1],[1],[1],[1],[1],[1],[1],[1],[1],[1],[1],[1],[1],[1],[1],[1],[1],[1],[1],[1],[1]],\"hovertemplate\":\"Latitude=%{lat}<br>Longitude=%{lon}<br>Deaths=%{marker.color}<extra></extra>\",\"lat\":[41.765775,41.308252,41.554261,41.179195,41.667528,41.673037,41.355167,41.524304,41.537589,41.393666,41.812186,41.544654,41.770668,41.272336,41.051924,41.224276,41.769319,41.11805,41.976501,41.322959,41.200888,41.818792,41.600428,41.382918,41.491113,41.711724,41.279802,41.343693,41.698002,41.576633,41.277971,41.316843,41.454408,41.712487,41.026526,41.34198,41.762008,41.674474,41.852781,41.72651,41.914993,41.626049,41.803361,41.924953,41.606284,41.899986,41.707618,41.699744,41.38864,41.67731,41.143322,41.395594,41.278677,41.434399,41.678437,41.283357,41.632043,41.953931,41.614599,41.371727,41.57348,41.606767,41.575581,41.925393,41.581345,41.830957,41.295121,41.257379,41.98469,41.87943,41.342158,41.712872,41.667775,41.445618,41.281228,41.872445,41.271447,41.466592,42.025992,41.498834,41.32694,41.765926,41.595859,41.983549,41.903847,41.601588,41.331612,41.45303,41.324919,41.413516,41.671982,41.875874,41.901973,41.824474,41.774042,41.434813,41.701926,41.809641,41.482447,41.353832,41.636294,41.674124,41.466074,41.958546,41.658069,41.826827,41.36677,41.788252,41.529492,41.385619,41.282731,41.769828,41.466099,41.871915,41.444336,41.951103,41.14044,41.471499,41.879454,41.352933,41.950652,41.87481,41.569698,41.487106,41.37642,41.757801,41.985524,41.452557,41.707458,41.573883,41.281456,41.19444,41.545058,41.337685,41.698351,41.428339,41.846401,41.588864,41.313043,41.148498,41.530948,41.3936,41.797715,41.35461,41.640692,41.080002,41.485881,41.515997,41.575155,41.477264,41.583599,41.912428,41.428833,41.983411,41.502843,41.927066,41.40159,41.749401,41.43775,41.988602,41.902117,41.611549,41.684395,41.304131,41.728789,41.985644,41.801124,41.770886,41.348301,41.403301,41.617221,41.357274,41.200939,41.544947,41.419998,41.535109,41.897524,41.4968,41.771487,41.841599,41.631357,41.722801,41.943168,41.037899,41.7654,41.909606,41.578959,41.675595,41.991381,41.634687,41.74589,41.73871,41.252848,41.746861,41.625301,41.86164,41.993599,41.722304,41.6936,41.530602,41.595001,41.963458,41.033877,41.666901,41.6975,41.031999,41.314944,41.8186,41.1931,41.639532,41.848922,41.663368,41.502629,41.831925,41.724646,41.871399,41.077925,42.021814,41.39119,42.013302,41.831902,41.9706,41.556245,42.023687,41.983601,41.998901,41.744496,41.840302,41.958312],\"legendgroup\":\"\",\"lon\":[-72.673356,-72.924161,-73.043069,-73.189476,-72.783437,-72.945791,-72.099561,-72.075821,-72.8011,-73.451539,-73.101552,-72.651713,-72.520868,-72.949817,-73.539475,-73.057564,-72.643785,-73.412906,-72.591985,-73.089594,-73.131323,-72.479029,-72.878105,-72.907743,-73.056564,-72.211975,-72.81404,-72.07877,-72.723843,-73.408713,-72.871954,-73.092968,-72.818414,-72.663607,-73.628549,-73.078296,-72.741807,-72.85835,-72.64379,-72.824947,-71.911904,-72.749301,-71.885766,-72.627177,-73.11839,-72.58032,-72.608041,-72.157703,-72.860826,-71.918131,-73.249812,-73.073581,-72.528067,-72.110298,-73.011233,-72.441654,-72.461309,-72.302901,-71.960584,-73.407448,-72.332129,-71.98126,-72.502526,-73.068845,-72.634112,-72.737425,-72.382292,-73.219533,-72.290196,-73.478873,-72.125831,-71.881207,-72.636739,-72.018188,-72.681651,-72.369671,-72.60086,-73.203497,-73.32814,-72.901448,-72.193664,-72.233779,-72.645562,-72.663124,-72.470262,-72.986414,-73.206797,-72.136336,-72.770281,-73.308842,-73.052909,-72.801404,-73.133851,-72.896794,-72.309999,-73.117134,-72.302082,-72.830547,-73.409561,-72.396436,-72.212599,-73.073189,-73.485613,-71.86272,-72.366324,-72.553262,-72.229584,-71.949628,-73.127625,-72.435658,-73.028426,-72.962087,-72.157799,-72.124128,-73.060658,-72.786055,-73.353182,-71.956392,-72.976047,-73.014356,-71.977285,-72.262753,-72.047798,-72.274406,-71.841613,-72.886703,-72.447503,-72.461201,-71.829067,-71.862923,-73.49843,-73.432397,-73.208654,-71.907182,-71.971118,-72.994834,-71.8881,-73.087377,-72.331317,-73.493705,-71.97251,-72.791702,-72.129312,-71.967648,-72.066224,-73.467371,-72.681864,-72.712263,-72.738288,-72.512292,-72.892799,-72.545409,-72.083756,-73.422268,-72.450318,-72.911918,-72.453465,-72.154999,-71.879919,-72.692497,-72.082503,-72.145949,-73.196691,-73.379918,-72.370309,-71.899438,-72.240997,-72.443722,-72.439697,-72.1064,-72.085031,-72.554824,-73.380701,-72.175639,-73.282501,-73.366386,-71.962064,-72.558686,-73.059941,-72.4683,-73.310688,-71.907204,-72.72611,-73.599776,-72.198431,-72.761945,-73.496536,-72.170314,-73.097592,-72.766879,-71.912218,-72.067063,-73.297472,-73.189234,-72.343597,-72.448788,-73.201621,-73.248129,-71.808899,-72.695,-72.051102,-73.334414,-73.579464,-72.597198,-72.119465,-73.568023,-72.006353,-73.371399,-73.083603,-73.20938,-72.812695,-73.36891,-72.979046,-73.225323,-73.477079,-73.362198,-73.216497,-71.945555,-71.965378,-73.284203,-73.030602,-72.355598,-73.309401,-72.8394,-71.977798,-72.9058,-73.348848,-71.9067,-73.437314],\"marker\":{\"color\":[1084,766,728,625,360,251,246,244,233,232,193,187,165,142,136,135,130,125,117,109,87,87,86,85,83,76,67,64,62,62,60,57,55,53,46,45,45,44,41,41,40,37,36,36,35,34,34,33,33,31,29,28,27,25,25,24,24,23,22,22,21,21,21,19,19,19,19,19,17,17,17,16,16,16,16,15,15,14,14,14,14,13,13,12,12,12,12,12,12,12,11,11,11,11,11,11,11,10,10,10,10,10,10,10,10,10,9,9,9,9,9,9,9,9,9,9,8,8,8,8,8,8,8,8,8,8,8,7,7,7,7,7,7,7,7,6,6,6,6,6,6,6,6,6,6,5,5,5,5,5,5,5,5,5,5,5,5,5,5,5,4,4,4,4,4,4,4,4,4,4,4,4,4,4,4,3,3,3,3,3,3,3,3,3,2,2,2,2,2,2,2,2,2,2,2,2,2,1,1,1,1,1,1,1,1,1,1,1,1,1,1,1,1,1,1,1,1,1,1,1,1,1,1,1,1,1,1,1,1],\"coloraxis\":\"coloraxis\"},\"mode\":\"markers\",\"name\":\"\",\"showlegend\":false,\"subplot\":\"mapbox\",\"type\":\"scattermapbox\"}],                        {\"template\":{\"data\":{\"histogram2dcontour\":[{\"type\":\"histogram2dcontour\",\"colorbar\":{\"outlinewidth\":0,\"ticks\":\"\"},\"colorscale\":[[0.0,\"#0d0887\"],[0.1111111111111111,\"#46039f\"],[0.2222222222222222,\"#7201a8\"],[0.3333333333333333,\"#9c179e\"],[0.4444444444444444,\"#bd3786\"],[0.5555555555555556,\"#d8576b\"],[0.6666666666666666,\"#ed7953\"],[0.7777777777777778,\"#fb9f3a\"],[0.8888888888888888,\"#fdca26\"],[1.0,\"#f0f921\"]]}],\"choropleth\":[{\"type\":\"choropleth\",\"colorbar\":{\"outlinewidth\":0,\"ticks\":\"\"}}],\"histogram2d\":[{\"type\":\"histogram2d\",\"colorbar\":{\"outlinewidth\":0,\"ticks\":\"\"},\"colorscale\":[[0.0,\"#0d0887\"],[0.1111111111111111,\"#46039f\"],[0.2222222222222222,\"#7201a8\"],[0.3333333333333333,\"#9c179e\"],[0.4444444444444444,\"#bd3786\"],[0.5555555555555556,\"#d8576b\"],[0.6666666666666666,\"#ed7953\"],[0.7777777777777778,\"#fb9f3a\"],[0.8888888888888888,\"#fdca26\"],[1.0,\"#f0f921\"]]}],\"heatmap\":[{\"type\":\"heatmap\",\"colorbar\":{\"outlinewidth\":0,\"ticks\":\"\"},\"colorscale\":[[0.0,\"#0d0887\"],[0.1111111111111111,\"#46039f\"],[0.2222222222222222,\"#7201a8\"],[0.3333333333333333,\"#9c179e\"],[0.4444444444444444,\"#bd3786\"],[0.5555555555555556,\"#d8576b\"],[0.6666666666666666,\"#ed7953\"],[0.7777777777777778,\"#fb9f3a\"],[0.8888888888888888,\"#fdca26\"],[1.0,\"#f0f921\"]]}],\"heatmapgl\":[{\"type\":\"heatmapgl\",\"colorbar\":{\"outlinewidth\":0,\"ticks\":\"\"},\"colorscale\":[[0.0,\"#0d0887\"],[0.1111111111111111,\"#46039f\"],[0.2222222222222222,\"#7201a8\"],[0.3333333333333333,\"#9c179e\"],[0.4444444444444444,\"#bd3786\"],[0.5555555555555556,\"#d8576b\"],[0.6666666666666666,\"#ed7953\"],[0.7777777777777778,\"#fb9f3a\"],[0.8888888888888888,\"#fdca26\"],[1.0,\"#f0f921\"]]}],\"contourcarpet\":[{\"type\":\"contourcarpet\",\"colorbar\":{\"outlinewidth\":0,\"ticks\":\"\"}}],\"contour\":[{\"type\":\"contour\",\"colorbar\":{\"outlinewidth\":0,\"ticks\":\"\"},\"colorscale\":[[0.0,\"#0d0887\"],[0.1111111111111111,\"#46039f\"],[0.2222222222222222,\"#7201a8\"],[0.3333333333333333,\"#9c179e\"],[0.4444444444444444,\"#bd3786\"],[0.5555555555555556,\"#d8576b\"],[0.6666666666666666,\"#ed7953\"],[0.7777777777777778,\"#fb9f3a\"],[0.8888888888888888,\"#fdca26\"],[1.0,\"#f0f921\"]]}],\"surface\":[{\"type\":\"surface\",\"colorbar\":{\"outlinewidth\":0,\"ticks\":\"\"},\"colorscale\":[[0.0,\"#0d0887\"],[0.1111111111111111,\"#46039f\"],[0.2222222222222222,\"#7201a8\"],[0.3333333333333333,\"#9c179e\"],[0.4444444444444444,\"#bd3786\"],[0.5555555555555556,\"#d8576b\"],[0.6666666666666666,\"#ed7953\"],[0.7777777777777778,\"#fb9f3a\"],[0.8888888888888888,\"#fdca26\"],[1.0,\"#f0f921\"]]}],\"mesh3d\":[{\"type\":\"mesh3d\",\"colorbar\":{\"outlinewidth\":0,\"ticks\":\"\"}}],\"scatter\":[{\"fillpattern\":{\"fillmode\":\"overlay\",\"size\":10,\"solidity\":0.2},\"type\":\"scatter\"}],\"parcoords\":[{\"type\":\"parcoords\",\"line\":{\"colorbar\":{\"outlinewidth\":0,\"ticks\":\"\"}}}],\"scatterpolargl\":[{\"type\":\"scatterpolargl\",\"marker\":{\"colorbar\":{\"outlinewidth\":0,\"ticks\":\"\"}}}],\"bar\":[{\"error_x\":{\"color\":\"#2a3f5f\"},\"error_y\":{\"color\":\"#2a3f5f\"},\"marker\":{\"line\":{\"color\":\"#E5ECF6\",\"width\":0.5},\"pattern\":{\"fillmode\":\"overlay\",\"size\":10,\"solidity\":0.2}},\"type\":\"bar\"}],\"scattergeo\":[{\"type\":\"scattergeo\",\"marker\":{\"colorbar\":{\"outlinewidth\":0,\"ticks\":\"\"}}}],\"scatterpolar\":[{\"type\":\"scatterpolar\",\"marker\":{\"colorbar\":{\"outlinewidth\":0,\"ticks\":\"\"}}}],\"histogram\":[{\"marker\":{\"pattern\":{\"fillmode\":\"overlay\",\"size\":10,\"solidity\":0.2}},\"type\":\"histogram\"}],\"scattergl\":[{\"type\":\"scattergl\",\"marker\":{\"colorbar\":{\"outlinewidth\":0,\"ticks\":\"\"}}}],\"scatter3d\":[{\"type\":\"scatter3d\",\"line\":{\"colorbar\":{\"outlinewidth\":0,\"ticks\":\"\"}},\"marker\":{\"colorbar\":{\"outlinewidth\":0,\"ticks\":\"\"}}}],\"scattermapbox\":[{\"type\":\"scattermapbox\",\"marker\":{\"colorbar\":{\"outlinewidth\":0,\"ticks\":\"\"}}}],\"scatterternary\":[{\"type\":\"scatterternary\",\"marker\":{\"colorbar\":{\"outlinewidth\":0,\"ticks\":\"\"}}}],\"scattercarpet\":[{\"type\":\"scattercarpet\",\"marker\":{\"colorbar\":{\"outlinewidth\":0,\"ticks\":\"\"}}}],\"carpet\":[{\"aaxis\":{\"endlinecolor\":\"#2a3f5f\",\"gridcolor\":\"white\",\"linecolor\":\"white\",\"minorgridcolor\":\"white\",\"startlinecolor\":\"#2a3f5f\"},\"baxis\":{\"endlinecolor\":\"#2a3f5f\",\"gridcolor\":\"white\",\"linecolor\":\"white\",\"minorgridcolor\":\"white\",\"startlinecolor\":\"#2a3f5f\"},\"type\":\"carpet\"}],\"table\":[{\"cells\":{\"fill\":{\"color\":\"#EBF0F8\"},\"line\":{\"color\":\"white\"}},\"header\":{\"fill\":{\"color\":\"#C8D4E3\"},\"line\":{\"color\":\"white\"}},\"type\":\"table\"}],\"barpolar\":[{\"marker\":{\"line\":{\"color\":\"#E5ECF6\",\"width\":0.5},\"pattern\":{\"fillmode\":\"overlay\",\"size\":10,\"solidity\":0.2}},\"type\":\"barpolar\"}],\"pie\":[{\"automargin\":true,\"type\":\"pie\"}]},\"layout\":{\"autotypenumbers\":\"strict\",\"colorway\":[\"#636efa\",\"#EF553B\",\"#00cc96\",\"#ab63fa\",\"#FFA15A\",\"#19d3f3\",\"#FF6692\",\"#B6E880\",\"#FF97FF\",\"#FECB52\"],\"font\":{\"color\":\"#2a3f5f\"},\"hovermode\":\"closest\",\"hoverlabel\":{\"align\":\"left\"},\"paper_bgcolor\":\"white\",\"plot_bgcolor\":\"#E5ECF6\",\"polar\":{\"bgcolor\":\"#E5ECF6\",\"angularaxis\":{\"gridcolor\":\"white\",\"linecolor\":\"white\",\"ticks\":\"\"},\"radialaxis\":{\"gridcolor\":\"white\",\"linecolor\":\"white\",\"ticks\":\"\"}},\"ternary\":{\"bgcolor\":\"#E5ECF6\",\"aaxis\":{\"gridcolor\":\"white\",\"linecolor\":\"white\",\"ticks\":\"\"},\"baxis\":{\"gridcolor\":\"white\",\"linecolor\":\"white\",\"ticks\":\"\"},\"caxis\":{\"gridcolor\":\"white\",\"linecolor\":\"white\",\"ticks\":\"\"}},\"coloraxis\":{\"colorbar\":{\"outlinewidth\":0,\"ticks\":\"\"}},\"colorscale\":{\"sequential\":[[0.0,\"#0d0887\"],[0.1111111111111111,\"#46039f\"],[0.2222222222222222,\"#7201a8\"],[0.3333333333333333,\"#9c179e\"],[0.4444444444444444,\"#bd3786\"],[0.5555555555555556,\"#d8576b\"],[0.6666666666666666,\"#ed7953\"],[0.7777777777777778,\"#fb9f3a\"],[0.8888888888888888,\"#fdca26\"],[1.0,\"#f0f921\"]],\"sequentialminus\":[[0.0,\"#0d0887\"],[0.1111111111111111,\"#46039f\"],[0.2222222222222222,\"#7201a8\"],[0.3333333333333333,\"#9c179e\"],[0.4444444444444444,\"#bd3786\"],[0.5555555555555556,\"#d8576b\"],[0.6666666666666666,\"#ed7953\"],[0.7777777777777778,\"#fb9f3a\"],[0.8888888888888888,\"#fdca26\"],[1.0,\"#f0f921\"]],\"diverging\":[[0,\"#8e0152\"],[0.1,\"#c51b7d\"],[0.2,\"#de77ae\"],[0.3,\"#f1b6da\"],[0.4,\"#fde0ef\"],[0.5,\"#f7f7f7\"],[0.6,\"#e6f5d0\"],[0.7,\"#b8e186\"],[0.8,\"#7fbc41\"],[0.9,\"#4d9221\"],[1,\"#276419\"]]},\"xaxis\":{\"gridcolor\":\"white\",\"linecolor\":\"white\",\"ticks\":\"\",\"title\":{\"standoff\":15},\"zerolinecolor\":\"white\",\"automargin\":true,\"zerolinewidth\":2},\"yaxis\":{\"gridcolor\":\"white\",\"linecolor\":\"white\",\"ticks\":\"\",\"title\":{\"standoff\":15},\"zerolinecolor\":\"white\",\"automargin\":true,\"zerolinewidth\":2},\"scene\":{\"xaxis\":{\"backgroundcolor\":\"#E5ECF6\",\"gridcolor\":\"white\",\"linecolor\":\"white\",\"showbackground\":true,\"ticks\":\"\",\"zerolinecolor\":\"white\",\"gridwidth\":2},\"yaxis\":{\"backgroundcolor\":\"#E5ECF6\",\"gridcolor\":\"white\",\"linecolor\":\"white\",\"showbackground\":true,\"ticks\":\"\",\"zerolinecolor\":\"white\",\"gridwidth\":2},\"zaxis\":{\"backgroundcolor\":\"#E5ECF6\",\"gridcolor\":\"white\",\"linecolor\":\"white\",\"showbackground\":true,\"ticks\":\"\",\"zerolinecolor\":\"white\",\"gridwidth\":2}},\"shapedefaults\":{\"line\":{\"color\":\"#2a3f5f\"}},\"annotationdefaults\":{\"arrowcolor\":\"#2a3f5f\",\"arrowhead\":0,\"arrowwidth\":1},\"geo\":{\"bgcolor\":\"white\",\"landcolor\":\"#E5ECF6\",\"subunitcolor\":\"white\",\"showland\":true,\"showlakes\":true,\"lakecolor\":\"white\"},\"title\":{\"x\":0.05},\"mapbox\":{\"style\":\"light\"}}},\"mapbox\":{\"domain\":{\"x\":[0.0,1.0],\"y\":[0.0,1.0]},\"center\":{\"lat\":41.59988996943231,\"lon\":-72.6843950349345},\"zoom\":3,\"style\":\"open-street-map\"},\"coloraxis\":{\"colorbar\":{\"title\":{\"text\":\"Deaths\"}},\"colorscale\":[[0.0,\"#0d0887\"],[0.1111111111111111,\"#46039f\"],[0.2222222222222222,\"#7201a8\"],[0.3333333333333333,\"#9c179e\"],[0.4444444444444444,\"#bd3786\"],[0.5555555555555556,\"#d8576b\"],[0.6666666666666666,\"#ed7953\"],[0.7777777777777778,\"#fb9f3a\"],[0.8888888888888888,\"#fdca26\"],[1.0,\"#f0f921\"]]},\"legend\":{\"tracegroupgap\":0},\"margin\":{\"t\":0,\"r\":0,\"l\":0,\"b\":0},\"height\":300},                        {\"responsive\": true}                    ).then(function(){\n",
              "                            \n",
              "var gd = document.getElementById('89b88349-961b-4c15-a660-bf30617d8d20');\n",
              "var x = new MutationObserver(function (mutations, observer) {{\n",
              "        var display = window.getComputedStyle(gd).display;\n",
              "        if (!display || display === 'none') {{\n",
              "            console.log([gd, 'removed!']);\n",
              "            Plotly.purge(gd);\n",
              "            observer.disconnect();\n",
              "        }}\n",
              "}});\n",
              "\n",
              "// Listen for the removal of the full notebook cells\n",
              "var notebookContainer = gd.closest('#notebook-container');\n",
              "if (notebookContainer) {{\n",
              "    x.observe(notebookContainer, {childList: true});\n",
              "}}\n",
              "\n",
              "// Listen for the clearing of the current output cell\n",
              "var outputEl = gd.closest('.output');\n",
              "if (outputEl) {{\n",
              "    x.observe(outputEl, {childList: true});\n",
              "}}\n",
              "\n",
              "                        })                };                            </script>        </div>\n",
              "</body>\n",
              "</html>"
            ]
          },
          "metadata": {},
          "output_type": "display_data"
        }
      ],
      "source": [
        "import plotly.express as px\n",
        "geodf = pd.DataFrame()\n",
        "geodf['latlon'] = latlon\n",
        "\n",
        "cities = geodf[\"latlon\"].value_counts()\n",
        "\n",
        "\n",
        "# causes = df[\"Cause of Death\"].value_counts()\n",
        "count = 0\n",
        "pltCi = []\n",
        "pltNu = []\n",
        "for indx in cities.iteritems():\n",
        "  pltCi.append(indx[0])\n",
        "  pltNu.append(indx[1])\n",
        "\n",
        "\n",
        "fgeodf = pd.DataFrame()\n",
        "fgeodf[['Latitude', 'Longitude']] = pd.DataFrame(pltCi)\n",
        "\n",
        "fgeodf['Deaths'] = pltNu\n",
        "print(fgeodf.shape)\n",
        "fgeodf.head()\n",
        "\n",
        "\n",
        "\n",
        "# Plot the data on a map using Plotly Express\n",
        "geodf.head()\n",
        "fig = px.scatter_mapbox(fgeodf,\n",
        "                        lat=\"Latitude\",\n",
        "                        lon=\"Longitude\",\n",
        "\n",
        "                        hover_data=[\"Deaths\"],\n",
        "                        color_discrete_sequence=[\"fuchsia\"],\n",
        "                        zoom=3,\n",
        "                        color=\"Deaths\",\n",
        "                        height=300)\n",
        "\n",
        "fig.update_layout(mapbox_style=\"open-street-map\")\n",
        "fig.update_layout(margin={\"r\":0,\"t\":0,\"l\":0,\"b\":0})\n",
        "fig.show()"
      ]
    },
    {
      "cell_type": "markdown",
      "id": "17UCW6Ps9Odz",
      "metadata": {
        "id": "17UCW6Ps9Odz"
      },
      "source": [
        "# **Work Process:**\n",
        "\n",
        "The data was extracted from a CSV file using the Pandas library and subsequently converted into a DataFrame. To better understand how to handle null values, we printed the type and number of all unique values as well as the number of null values for each column. Unnecessary columns were then dropped and summary statistics for the remaining columns were generated.\n",
        "\n",
        "Further analysis involved grouping the number of deaths by gender, age, and place of death. The data was then encoded using Scikit-learn’s Label Encoder and a correlation heatmap was plotted. Additional exploratory data analysis was performed on deaths in each county as well as by race and ethnicity.\n",
        "\n",
        "Finally, we visualized our findings using Plotly Express to plot the data points.\n",
        "\n",
        "\n",
        "# Key Takeways:\n",
        "\n",
        "1) 75% of those deceased are male as shown by this [graph](#scrollTo=8cb2cd52&line=3&uniqifier=1).\n",
        "\n",
        "2) Benzodiazepine, Ethanol, Fentanyl and Opiods are the [biggest causes of death.](#scrollTo=hqBJdtUsAIOA)\n",
        "\n",
        "3) Most deaths take place within the [age group of 18-24.](#scrollTo=8d1fb59f&line=2&uniqifier=1)\n",
        "\n",
        "4) [Most deaths are reported at home](#scrollTo=44e6b5d1&line=4&uniqifier=1), followed by hospitals, followed by 'other' places.\n",
        "\n",
        "5) Hartford, Waterbury, and New Haven are the most [affected cities](#scrollTo=d18c316c&line=3&uniqifier=1) by drug use, in terms of deaths\n",
        "\n",
        "6) [Ethnicity-wise](#scrollTo=67582cf6&line=2&uniqifier=1) the most vulnerable group is hispanics\n",
        "\n",
        "7) [Race-wise](#scrollTo=a0f99287&line=2&uniqifier=1) the most vulnerable group is white"
      ]
    }
  ],
  "metadata": {
    "colab": {
      "provenance": []
    },
    "kernelspec": {
      "display_name": "Python 3 (ipykernel)",
      "language": "python",
      "name": "python3"
    },
    "language_info": {
      "codemirror_mode": {
        "name": "ipython",
        "version": 3
      },
      "file_extension": ".py",
      "mimetype": "text/x-python",
      "name": "python",
      "nbconvert_exporter": "python",
      "pygments_lexer": "ipython3",
      "version": "3.10.2"
    }
  },
  "nbformat": 4,
  "nbformat_minor": 5
}
